{
  "nbformat": 4,
  "nbformat_minor": 0,
  "metadata": {
    "colab": {
      "name": "ECE1030_Cardiovascular_Disease_Prediction.ipynb",
      "provenance": [],
      "collapsed_sections": [],
      "mount_file_id": "1TnhoCAfSgmm2oM4wZA1Wy4Gsfpo0lp3C",
      "authorship_tag": "ABX9TyPIMcpK0aSMBXpcBGeP0cT0",
      "include_colab_link": true
    },
    "kernelspec": {
      "name": "python3",
      "display_name": "Python 3"
    },
    "language_info": {
      "name": "python"
    }
  },
  "cells": [
    {
      "cell_type": "markdown",
      "metadata": {
        "id": "view-in-github",
        "colab_type": "text"
      },
      "source": [
        "<a href=\"https://colab.research.google.com/github/Animesh1911/Cardiovascular_Disease_Prediction/blob/main/Cardiovascular_Disease_Prediction.ipynb\" target=\"_parent\"><img src=\"https://colab.research.google.com/assets/colab-badge.svg\" alt=\"Open In Colab\"/></a>"
      ]
    },
    {
      "cell_type": "markdown",
      "metadata": {
        "id": "LMRtGFVXXDy0"
      },
      "source": [
        "#**PROJECT NAME** - *Cardiovascular Disease Prediction*\n",
        "\n",
        "The aim of this project is to predict whether a person has cardiovascular disease or not based on various features."
      ]
    },
    {
      "cell_type": "code",
      "metadata": {
        "id": "d79Qiu7SURml"
      },
      "source": [
        "import pandas as pd\n",
        "import numpy as np\n",
        "import matplotlib.pyplot as plt\n",
        "import seaborn as sns\n",
        "import pickle\n",
        "import warnings\n",
        "warnings.filterwarnings('ignore')"
      ],
      "execution_count": 1,
      "outputs": []
    },
    {
      "cell_type": "code",
      "metadata": {
        "id": "zTAEu7U2UW83"
      },
      "source": [
        "data = pd.read_csv('/content/drive/MyDrive/Machine Learning Projects/Cardiovascular Disease Prediction/cardio_train.csv',delimiter=';')"
      ],
      "execution_count": 2,
      "outputs": []
    },
    {
      "cell_type": "markdown",
      "metadata": {
        "id": "Vi0c2EZY3BVp"
      },
      "source": [
        "##**PREPROCESSING AND EXPLORATORY DATA ANALYSIS**"
      ]
    },
    {
      "cell_type": "code",
      "metadata": {
        "colab": {
          "base_uri": "https://localhost:8080/",
          "height": 424
        },
        "id": "6uqP0FH6Um0D",
        "outputId": "8835c7ee-6d13-4c50-8e2d-21fe5dee06de"
      },
      "source": [
        "data"
      ],
      "execution_count": 3,
      "outputs": [
        {
          "output_type": "execute_result",
          "data": {
            "text/html": [
              "<div>\n",
              "<style scoped>\n",
              "    .dataframe tbody tr th:only-of-type {\n",
              "        vertical-align: middle;\n",
              "    }\n",
              "\n",
              "    .dataframe tbody tr th {\n",
              "        vertical-align: top;\n",
              "    }\n",
              "\n",
              "    .dataframe thead th {\n",
              "        text-align: right;\n",
              "    }\n",
              "</style>\n",
              "<table border=\"1\" class=\"dataframe\">\n",
              "  <thead>\n",
              "    <tr style=\"text-align: right;\">\n",
              "      <th></th>\n",
              "      <th>id</th>\n",
              "      <th>age</th>\n",
              "      <th>gender</th>\n",
              "      <th>height</th>\n",
              "      <th>weight</th>\n",
              "      <th>ap_hi</th>\n",
              "      <th>ap_lo</th>\n",
              "      <th>cholesterol</th>\n",
              "      <th>gluc</th>\n",
              "      <th>smoke</th>\n",
              "      <th>alco</th>\n",
              "      <th>active</th>\n",
              "      <th>cardio</th>\n",
              "    </tr>\n",
              "  </thead>\n",
              "  <tbody>\n",
              "    <tr>\n",
              "      <th>0</th>\n",
              "      <td>0</td>\n",
              "      <td>18393</td>\n",
              "      <td>2</td>\n",
              "      <td>168</td>\n",
              "      <td>62.0</td>\n",
              "      <td>110</td>\n",
              "      <td>80</td>\n",
              "      <td>1</td>\n",
              "      <td>1</td>\n",
              "      <td>0</td>\n",
              "      <td>0</td>\n",
              "      <td>1</td>\n",
              "      <td>0</td>\n",
              "    </tr>\n",
              "    <tr>\n",
              "      <th>1</th>\n",
              "      <td>1</td>\n",
              "      <td>20228</td>\n",
              "      <td>1</td>\n",
              "      <td>156</td>\n",
              "      <td>85.0</td>\n",
              "      <td>140</td>\n",
              "      <td>90</td>\n",
              "      <td>3</td>\n",
              "      <td>1</td>\n",
              "      <td>0</td>\n",
              "      <td>0</td>\n",
              "      <td>1</td>\n",
              "      <td>1</td>\n",
              "    </tr>\n",
              "    <tr>\n",
              "      <th>2</th>\n",
              "      <td>2</td>\n",
              "      <td>18857</td>\n",
              "      <td>1</td>\n",
              "      <td>165</td>\n",
              "      <td>64.0</td>\n",
              "      <td>130</td>\n",
              "      <td>70</td>\n",
              "      <td>3</td>\n",
              "      <td>1</td>\n",
              "      <td>0</td>\n",
              "      <td>0</td>\n",
              "      <td>0</td>\n",
              "      <td>1</td>\n",
              "    </tr>\n",
              "    <tr>\n",
              "      <th>3</th>\n",
              "      <td>3</td>\n",
              "      <td>17623</td>\n",
              "      <td>2</td>\n",
              "      <td>169</td>\n",
              "      <td>82.0</td>\n",
              "      <td>150</td>\n",
              "      <td>100</td>\n",
              "      <td>1</td>\n",
              "      <td>1</td>\n",
              "      <td>0</td>\n",
              "      <td>0</td>\n",
              "      <td>1</td>\n",
              "      <td>1</td>\n",
              "    </tr>\n",
              "    <tr>\n",
              "      <th>4</th>\n",
              "      <td>4</td>\n",
              "      <td>17474</td>\n",
              "      <td>1</td>\n",
              "      <td>156</td>\n",
              "      <td>56.0</td>\n",
              "      <td>100</td>\n",
              "      <td>60</td>\n",
              "      <td>1</td>\n",
              "      <td>1</td>\n",
              "      <td>0</td>\n",
              "      <td>0</td>\n",
              "      <td>0</td>\n",
              "      <td>0</td>\n",
              "    </tr>\n",
              "    <tr>\n",
              "      <th>...</th>\n",
              "      <td>...</td>\n",
              "      <td>...</td>\n",
              "      <td>...</td>\n",
              "      <td>...</td>\n",
              "      <td>...</td>\n",
              "      <td>...</td>\n",
              "      <td>...</td>\n",
              "      <td>...</td>\n",
              "      <td>...</td>\n",
              "      <td>...</td>\n",
              "      <td>...</td>\n",
              "      <td>...</td>\n",
              "      <td>...</td>\n",
              "    </tr>\n",
              "    <tr>\n",
              "      <th>69995</th>\n",
              "      <td>99993</td>\n",
              "      <td>19240</td>\n",
              "      <td>2</td>\n",
              "      <td>168</td>\n",
              "      <td>76.0</td>\n",
              "      <td>120</td>\n",
              "      <td>80</td>\n",
              "      <td>1</td>\n",
              "      <td>1</td>\n",
              "      <td>1</td>\n",
              "      <td>0</td>\n",
              "      <td>1</td>\n",
              "      <td>0</td>\n",
              "    </tr>\n",
              "    <tr>\n",
              "      <th>69996</th>\n",
              "      <td>99995</td>\n",
              "      <td>22601</td>\n",
              "      <td>1</td>\n",
              "      <td>158</td>\n",
              "      <td>126.0</td>\n",
              "      <td>140</td>\n",
              "      <td>90</td>\n",
              "      <td>2</td>\n",
              "      <td>2</td>\n",
              "      <td>0</td>\n",
              "      <td>0</td>\n",
              "      <td>1</td>\n",
              "      <td>1</td>\n",
              "    </tr>\n",
              "    <tr>\n",
              "      <th>69997</th>\n",
              "      <td>99996</td>\n",
              "      <td>19066</td>\n",
              "      <td>2</td>\n",
              "      <td>183</td>\n",
              "      <td>105.0</td>\n",
              "      <td>180</td>\n",
              "      <td>90</td>\n",
              "      <td>3</td>\n",
              "      <td>1</td>\n",
              "      <td>0</td>\n",
              "      <td>1</td>\n",
              "      <td>0</td>\n",
              "      <td>1</td>\n",
              "    </tr>\n",
              "    <tr>\n",
              "      <th>69998</th>\n",
              "      <td>99998</td>\n",
              "      <td>22431</td>\n",
              "      <td>1</td>\n",
              "      <td>163</td>\n",
              "      <td>72.0</td>\n",
              "      <td>135</td>\n",
              "      <td>80</td>\n",
              "      <td>1</td>\n",
              "      <td>2</td>\n",
              "      <td>0</td>\n",
              "      <td>0</td>\n",
              "      <td>0</td>\n",
              "      <td>1</td>\n",
              "    </tr>\n",
              "    <tr>\n",
              "      <th>69999</th>\n",
              "      <td>99999</td>\n",
              "      <td>20540</td>\n",
              "      <td>1</td>\n",
              "      <td>170</td>\n",
              "      <td>72.0</td>\n",
              "      <td>120</td>\n",
              "      <td>80</td>\n",
              "      <td>2</td>\n",
              "      <td>1</td>\n",
              "      <td>0</td>\n",
              "      <td>0</td>\n",
              "      <td>1</td>\n",
              "      <td>0</td>\n",
              "    </tr>\n",
              "  </tbody>\n",
              "</table>\n",
              "<p>70000 rows × 13 columns</p>\n",
              "</div>"
            ],
            "text/plain": [
              "          id    age  gender  height  weight  ...  gluc  smoke  alco  active  cardio\n",
              "0          0  18393       2     168    62.0  ...     1      0     0       1       0\n",
              "1          1  20228       1     156    85.0  ...     1      0     0       1       1\n",
              "2          2  18857       1     165    64.0  ...     1      0     0       0       1\n",
              "3          3  17623       2     169    82.0  ...     1      0     0       1       1\n",
              "4          4  17474       1     156    56.0  ...     1      0     0       0       0\n",
              "...      ...    ...     ...     ...     ...  ...   ...    ...   ...     ...     ...\n",
              "69995  99993  19240       2     168    76.0  ...     1      1     0       1       0\n",
              "69996  99995  22601       1     158   126.0  ...     2      0     0       1       1\n",
              "69997  99996  19066       2     183   105.0  ...     1      0     1       0       1\n",
              "69998  99998  22431       1     163    72.0  ...     2      0     0       0       1\n",
              "69999  99999  20540       1     170    72.0  ...     1      0     0       1       0\n",
              "\n",
              "[70000 rows x 13 columns]"
            ]
          },
          "metadata": {},
          "execution_count": 3
        }
      ]
    },
    {
      "cell_type": "markdown",
      "metadata": {
        "id": "HxHyH3lpGlRB"
      },
      "source": [
        "**Independent Features:**\n",
        "\n",
        ">Age (in days), Gender (1-Female, 2-Male), Height, Weight, Systolic BP, Diastolic BP,\n",
        "\n",
        ">Cholesterol -  1 normal, 2 above normal, 3 well above normal\n",
        "\n",
        ">Glucose - 1 normal, 2 above normal, 3 well above normal\n",
        "\n",
        ">Smoking, Alcohol intake, Physical activity\n",
        "\n",
        "**Dependent/Output Feature:**\n",
        "\n",
        ">Cardiovascular Disease"
      ]
    },
    {
      "cell_type": "code",
      "metadata": {
        "id": "t3OfVpeQXHZG",
        "colab": {
          "base_uri": "https://localhost:8080/",
          "height": 320
        },
        "outputId": "1d389f61-8839-4075-e884-34d6487a8ff0"
      },
      "source": [
        "data.describe()"
      ],
      "execution_count": 4,
      "outputs": [
        {
          "output_type": "execute_result",
          "data": {
            "text/html": [
              "<div>\n",
              "<style scoped>\n",
              "    .dataframe tbody tr th:only-of-type {\n",
              "        vertical-align: middle;\n",
              "    }\n",
              "\n",
              "    .dataframe tbody tr th {\n",
              "        vertical-align: top;\n",
              "    }\n",
              "\n",
              "    .dataframe thead th {\n",
              "        text-align: right;\n",
              "    }\n",
              "</style>\n",
              "<table border=\"1\" class=\"dataframe\">\n",
              "  <thead>\n",
              "    <tr style=\"text-align: right;\">\n",
              "      <th></th>\n",
              "      <th>id</th>\n",
              "      <th>age</th>\n",
              "      <th>gender</th>\n",
              "      <th>height</th>\n",
              "      <th>weight</th>\n",
              "      <th>ap_hi</th>\n",
              "      <th>ap_lo</th>\n",
              "      <th>cholesterol</th>\n",
              "      <th>gluc</th>\n",
              "      <th>smoke</th>\n",
              "      <th>alco</th>\n",
              "      <th>active</th>\n",
              "      <th>cardio</th>\n",
              "    </tr>\n",
              "  </thead>\n",
              "  <tbody>\n",
              "    <tr>\n",
              "      <th>count</th>\n",
              "      <td>70000.000000</td>\n",
              "      <td>70000.000000</td>\n",
              "      <td>70000.000000</td>\n",
              "      <td>70000.000000</td>\n",
              "      <td>70000.000000</td>\n",
              "      <td>70000.000000</td>\n",
              "      <td>70000.000000</td>\n",
              "      <td>70000.000000</td>\n",
              "      <td>70000.000000</td>\n",
              "      <td>70000.000000</td>\n",
              "      <td>70000.000000</td>\n",
              "      <td>70000.000000</td>\n",
              "      <td>70000.000000</td>\n",
              "    </tr>\n",
              "    <tr>\n",
              "      <th>mean</th>\n",
              "      <td>49972.419900</td>\n",
              "      <td>19468.865814</td>\n",
              "      <td>1.349571</td>\n",
              "      <td>164.359229</td>\n",
              "      <td>74.205690</td>\n",
              "      <td>128.817286</td>\n",
              "      <td>96.630414</td>\n",
              "      <td>1.366871</td>\n",
              "      <td>1.226457</td>\n",
              "      <td>0.088129</td>\n",
              "      <td>0.053771</td>\n",
              "      <td>0.803729</td>\n",
              "      <td>0.499700</td>\n",
              "    </tr>\n",
              "    <tr>\n",
              "      <th>std</th>\n",
              "      <td>28851.302323</td>\n",
              "      <td>2467.251667</td>\n",
              "      <td>0.476838</td>\n",
              "      <td>8.210126</td>\n",
              "      <td>14.395757</td>\n",
              "      <td>154.011419</td>\n",
              "      <td>188.472530</td>\n",
              "      <td>0.680250</td>\n",
              "      <td>0.572270</td>\n",
              "      <td>0.283484</td>\n",
              "      <td>0.225568</td>\n",
              "      <td>0.397179</td>\n",
              "      <td>0.500003</td>\n",
              "    </tr>\n",
              "    <tr>\n",
              "      <th>min</th>\n",
              "      <td>0.000000</td>\n",
              "      <td>10798.000000</td>\n",
              "      <td>1.000000</td>\n",
              "      <td>55.000000</td>\n",
              "      <td>10.000000</td>\n",
              "      <td>-150.000000</td>\n",
              "      <td>-70.000000</td>\n",
              "      <td>1.000000</td>\n",
              "      <td>1.000000</td>\n",
              "      <td>0.000000</td>\n",
              "      <td>0.000000</td>\n",
              "      <td>0.000000</td>\n",
              "      <td>0.000000</td>\n",
              "    </tr>\n",
              "    <tr>\n",
              "      <th>25%</th>\n",
              "      <td>25006.750000</td>\n",
              "      <td>17664.000000</td>\n",
              "      <td>1.000000</td>\n",
              "      <td>159.000000</td>\n",
              "      <td>65.000000</td>\n",
              "      <td>120.000000</td>\n",
              "      <td>80.000000</td>\n",
              "      <td>1.000000</td>\n",
              "      <td>1.000000</td>\n",
              "      <td>0.000000</td>\n",
              "      <td>0.000000</td>\n",
              "      <td>1.000000</td>\n",
              "      <td>0.000000</td>\n",
              "    </tr>\n",
              "    <tr>\n",
              "      <th>50%</th>\n",
              "      <td>50001.500000</td>\n",
              "      <td>19703.000000</td>\n",
              "      <td>1.000000</td>\n",
              "      <td>165.000000</td>\n",
              "      <td>72.000000</td>\n",
              "      <td>120.000000</td>\n",
              "      <td>80.000000</td>\n",
              "      <td>1.000000</td>\n",
              "      <td>1.000000</td>\n",
              "      <td>0.000000</td>\n",
              "      <td>0.000000</td>\n",
              "      <td>1.000000</td>\n",
              "      <td>0.000000</td>\n",
              "    </tr>\n",
              "    <tr>\n",
              "      <th>75%</th>\n",
              "      <td>74889.250000</td>\n",
              "      <td>21327.000000</td>\n",
              "      <td>2.000000</td>\n",
              "      <td>170.000000</td>\n",
              "      <td>82.000000</td>\n",
              "      <td>140.000000</td>\n",
              "      <td>90.000000</td>\n",
              "      <td>2.000000</td>\n",
              "      <td>1.000000</td>\n",
              "      <td>0.000000</td>\n",
              "      <td>0.000000</td>\n",
              "      <td>1.000000</td>\n",
              "      <td>1.000000</td>\n",
              "    </tr>\n",
              "    <tr>\n",
              "      <th>max</th>\n",
              "      <td>99999.000000</td>\n",
              "      <td>23713.000000</td>\n",
              "      <td>2.000000</td>\n",
              "      <td>250.000000</td>\n",
              "      <td>200.000000</td>\n",
              "      <td>16020.000000</td>\n",
              "      <td>11000.000000</td>\n",
              "      <td>3.000000</td>\n",
              "      <td>3.000000</td>\n",
              "      <td>1.000000</td>\n",
              "      <td>1.000000</td>\n",
              "      <td>1.000000</td>\n",
              "      <td>1.000000</td>\n",
              "    </tr>\n",
              "  </tbody>\n",
              "</table>\n",
              "</div>"
            ],
            "text/plain": [
              "                 id           age  ...        active        cardio\n",
              "count  70000.000000  70000.000000  ...  70000.000000  70000.000000\n",
              "mean   49972.419900  19468.865814  ...      0.803729      0.499700\n",
              "std    28851.302323   2467.251667  ...      0.397179      0.500003\n",
              "min        0.000000  10798.000000  ...      0.000000      0.000000\n",
              "25%    25006.750000  17664.000000  ...      1.000000      0.000000\n",
              "50%    50001.500000  19703.000000  ...      1.000000      0.000000\n",
              "75%    74889.250000  21327.000000  ...      1.000000      1.000000\n",
              "max    99999.000000  23713.000000  ...      1.000000      1.000000\n",
              "\n",
              "[8 rows x 13 columns]"
            ]
          },
          "metadata": {},
          "execution_count": 4
        }
      ]
    },
    {
      "cell_type": "markdown",
      "metadata": {
        "id": "Z5X0W645x3mP"
      },
      "source": [
        "Average age of people is 53.\n",
        "\n",
        "Percentage of male is 35.\n",
        "\n",
        "Percentage of smoker is 9.\n",
        "\n",
        "Percentage of alcoholic is 5.\n",
        "\n",
        "Percentage of active people is 80."
      ]
    },
    {
      "cell_type": "markdown",
      "metadata": {
        "id": "oaQ8tgemGLyZ"
      },
      "source": [
        "We can see that there are various outliers in **'ap_hi'** and **'ap_lo'** columns since the  standard deviation value is too high. We can also see that the maximum and minimum values in these two columns are too high and negative respectively which is not possible for any Blood Pressure value."
      ]
    },
    {
      "cell_type": "code",
      "metadata": {
        "colab": {
          "base_uri": "https://localhost:8080/"
        },
        "id": "z-FxukJEYlCo",
        "outputId": "d3c00411-f5ed-4a22-ff0d-56bceda91e53"
      },
      "source": [
        "data.info()"
      ],
      "execution_count": 5,
      "outputs": [
        {
          "output_type": "stream",
          "name": "stdout",
          "text": [
            "<class 'pandas.core.frame.DataFrame'>\n",
            "RangeIndex: 70000 entries, 0 to 69999\n",
            "Data columns (total 13 columns):\n",
            " #   Column       Non-Null Count  Dtype  \n",
            "---  ------       --------------  -----  \n",
            " 0   id           70000 non-null  int64  \n",
            " 1   age          70000 non-null  int64  \n",
            " 2   gender       70000 non-null  int64  \n",
            " 3   height       70000 non-null  int64  \n",
            " 4   weight       70000 non-null  float64\n",
            " 5   ap_hi        70000 non-null  int64  \n",
            " 6   ap_lo        70000 non-null  int64  \n",
            " 7   cholesterol  70000 non-null  int64  \n",
            " 8   gluc         70000 non-null  int64  \n",
            " 9   smoke        70000 non-null  int64  \n",
            " 10  alco         70000 non-null  int64  \n",
            " 11  active       70000 non-null  int64  \n",
            " 12  cardio       70000 non-null  int64  \n",
            "dtypes: float64(1), int64(12)\n",
            "memory usage: 6.9 MB\n"
          ]
        }
      ]
    },
    {
      "cell_type": "markdown",
      "metadata": {
        "id": "U1l8cBCUIau4"
      },
      "source": [
        "There are no missing values in the data."
      ]
    },
    {
      "cell_type": "code",
      "metadata": {
        "id": "YUVYb9bxPCPv"
      },
      "source": [
        "data.drop('id',axis=1,inplace=True)"
      ],
      "execution_count": 6,
      "outputs": []
    },
    {
      "cell_type": "code",
      "metadata": {
        "id": "jXrPF89EOp18"
      },
      "source": [
        "data['age'] = round(data['age']//365.25)"
      ],
      "execution_count": 7,
      "outputs": []
    },
    {
      "cell_type": "markdown",
      "metadata": {
        "id": "Pc5eZtjuwcrN"
      },
      "source": [
        "Converting the age values from days to years."
      ]
    },
    {
      "cell_type": "code",
      "metadata": {
        "id": "rXN48sKZPwvW"
      },
      "source": [
        "data['gender'] = data['gender'] - 1"
      ],
      "execution_count": 8,
      "outputs": []
    },
    {
      "cell_type": "markdown",
      "metadata": {
        "id": "cNbAacQJwDZ0"
      },
      "source": [
        "Female - 0, \n",
        "Male - 1"
      ]
    },
    {
      "cell_type": "code",
      "metadata": {
        "colab": {
          "base_uri": "https://localhost:8080/",
          "height": 424
        },
        "id": "0DvgCcAUQ__W",
        "outputId": "86a1386d-d826-4261-a1ef-63a21196608a"
      },
      "source": [
        "data"
      ],
      "execution_count": 9,
      "outputs": [
        {
          "output_type": "execute_result",
          "data": {
            "text/html": [
              "<div>\n",
              "<style scoped>\n",
              "    .dataframe tbody tr th:only-of-type {\n",
              "        vertical-align: middle;\n",
              "    }\n",
              "\n",
              "    .dataframe tbody tr th {\n",
              "        vertical-align: top;\n",
              "    }\n",
              "\n",
              "    .dataframe thead th {\n",
              "        text-align: right;\n",
              "    }\n",
              "</style>\n",
              "<table border=\"1\" class=\"dataframe\">\n",
              "  <thead>\n",
              "    <tr style=\"text-align: right;\">\n",
              "      <th></th>\n",
              "      <th>age</th>\n",
              "      <th>gender</th>\n",
              "      <th>height</th>\n",
              "      <th>weight</th>\n",
              "      <th>ap_hi</th>\n",
              "      <th>ap_lo</th>\n",
              "      <th>cholesterol</th>\n",
              "      <th>gluc</th>\n",
              "      <th>smoke</th>\n",
              "      <th>alco</th>\n",
              "      <th>active</th>\n",
              "      <th>cardio</th>\n",
              "    </tr>\n",
              "  </thead>\n",
              "  <tbody>\n",
              "    <tr>\n",
              "      <th>0</th>\n",
              "      <td>50</td>\n",
              "      <td>1</td>\n",
              "      <td>168</td>\n",
              "      <td>62.0</td>\n",
              "      <td>110</td>\n",
              "      <td>80</td>\n",
              "      <td>1</td>\n",
              "      <td>1</td>\n",
              "      <td>0</td>\n",
              "      <td>0</td>\n",
              "      <td>1</td>\n",
              "      <td>0</td>\n",
              "    </tr>\n",
              "    <tr>\n",
              "      <th>1</th>\n",
              "      <td>55</td>\n",
              "      <td>0</td>\n",
              "      <td>156</td>\n",
              "      <td>85.0</td>\n",
              "      <td>140</td>\n",
              "      <td>90</td>\n",
              "      <td>3</td>\n",
              "      <td>1</td>\n",
              "      <td>0</td>\n",
              "      <td>0</td>\n",
              "      <td>1</td>\n",
              "      <td>1</td>\n",
              "    </tr>\n",
              "    <tr>\n",
              "      <th>2</th>\n",
              "      <td>51</td>\n",
              "      <td>0</td>\n",
              "      <td>165</td>\n",
              "      <td>64.0</td>\n",
              "      <td>130</td>\n",
              "      <td>70</td>\n",
              "      <td>3</td>\n",
              "      <td>1</td>\n",
              "      <td>0</td>\n",
              "      <td>0</td>\n",
              "      <td>0</td>\n",
              "      <td>1</td>\n",
              "    </tr>\n",
              "    <tr>\n",
              "      <th>3</th>\n",
              "      <td>48</td>\n",
              "      <td>1</td>\n",
              "      <td>169</td>\n",
              "      <td>82.0</td>\n",
              "      <td>150</td>\n",
              "      <td>100</td>\n",
              "      <td>1</td>\n",
              "      <td>1</td>\n",
              "      <td>0</td>\n",
              "      <td>0</td>\n",
              "      <td>1</td>\n",
              "      <td>1</td>\n",
              "    </tr>\n",
              "    <tr>\n",
              "      <th>4</th>\n",
              "      <td>47</td>\n",
              "      <td>0</td>\n",
              "      <td>156</td>\n",
              "      <td>56.0</td>\n",
              "      <td>100</td>\n",
              "      <td>60</td>\n",
              "      <td>1</td>\n",
              "      <td>1</td>\n",
              "      <td>0</td>\n",
              "      <td>0</td>\n",
              "      <td>0</td>\n",
              "      <td>0</td>\n",
              "    </tr>\n",
              "    <tr>\n",
              "      <th>...</th>\n",
              "      <td>...</td>\n",
              "      <td>...</td>\n",
              "      <td>...</td>\n",
              "      <td>...</td>\n",
              "      <td>...</td>\n",
              "      <td>...</td>\n",
              "      <td>...</td>\n",
              "      <td>...</td>\n",
              "      <td>...</td>\n",
              "      <td>...</td>\n",
              "      <td>...</td>\n",
              "      <td>...</td>\n",
              "    </tr>\n",
              "    <tr>\n",
              "      <th>69995</th>\n",
              "      <td>52</td>\n",
              "      <td>1</td>\n",
              "      <td>168</td>\n",
              "      <td>76.0</td>\n",
              "      <td>120</td>\n",
              "      <td>80</td>\n",
              "      <td>1</td>\n",
              "      <td>1</td>\n",
              "      <td>1</td>\n",
              "      <td>0</td>\n",
              "      <td>1</td>\n",
              "      <td>0</td>\n",
              "    </tr>\n",
              "    <tr>\n",
              "      <th>69996</th>\n",
              "      <td>61</td>\n",
              "      <td>0</td>\n",
              "      <td>158</td>\n",
              "      <td>126.0</td>\n",
              "      <td>140</td>\n",
              "      <td>90</td>\n",
              "      <td>2</td>\n",
              "      <td>2</td>\n",
              "      <td>0</td>\n",
              "      <td>0</td>\n",
              "      <td>1</td>\n",
              "      <td>1</td>\n",
              "    </tr>\n",
              "    <tr>\n",
              "      <th>69997</th>\n",
              "      <td>52</td>\n",
              "      <td>1</td>\n",
              "      <td>183</td>\n",
              "      <td>105.0</td>\n",
              "      <td>180</td>\n",
              "      <td>90</td>\n",
              "      <td>3</td>\n",
              "      <td>1</td>\n",
              "      <td>0</td>\n",
              "      <td>1</td>\n",
              "      <td>0</td>\n",
              "      <td>1</td>\n",
              "    </tr>\n",
              "    <tr>\n",
              "      <th>69998</th>\n",
              "      <td>61</td>\n",
              "      <td>0</td>\n",
              "      <td>163</td>\n",
              "      <td>72.0</td>\n",
              "      <td>135</td>\n",
              "      <td>80</td>\n",
              "      <td>1</td>\n",
              "      <td>2</td>\n",
              "      <td>0</td>\n",
              "      <td>0</td>\n",
              "      <td>0</td>\n",
              "      <td>1</td>\n",
              "    </tr>\n",
              "    <tr>\n",
              "      <th>69999</th>\n",
              "      <td>56</td>\n",
              "      <td>0</td>\n",
              "      <td>170</td>\n",
              "      <td>72.0</td>\n",
              "      <td>120</td>\n",
              "      <td>80</td>\n",
              "      <td>2</td>\n",
              "      <td>1</td>\n",
              "      <td>0</td>\n",
              "      <td>0</td>\n",
              "      <td>1</td>\n",
              "      <td>0</td>\n",
              "    </tr>\n",
              "  </tbody>\n",
              "</table>\n",
              "<p>70000 rows × 12 columns</p>\n",
              "</div>"
            ],
            "text/plain": [
              "       age  gender  height  weight  ap_hi  ...  gluc  smoke  alco  active  cardio\n",
              "0       50       1     168    62.0    110  ...     1      0     0       1       0\n",
              "1       55       0     156    85.0    140  ...     1      0     0       1       1\n",
              "2       51       0     165    64.0    130  ...     1      0     0       0       1\n",
              "3       48       1     169    82.0    150  ...     1      0     0       1       1\n",
              "4       47       0     156    56.0    100  ...     1      0     0       0       0\n",
              "...    ...     ...     ...     ...    ...  ...   ...    ...   ...     ...     ...\n",
              "69995   52       1     168    76.0    120  ...     1      1     0       1       0\n",
              "69996   61       0     158   126.0    140  ...     2      0     0       1       1\n",
              "69997   52       1     183   105.0    180  ...     1      0     1       0       1\n",
              "69998   61       0     163    72.0    135  ...     2      0     0       0       1\n",
              "69999   56       0     170    72.0    120  ...     1      0     0       1       0\n",
              "\n",
              "[70000 rows x 12 columns]"
            ]
          },
          "metadata": {},
          "execution_count": 9
        }
      ]
    },
    {
      "cell_type": "code",
      "metadata": {
        "id": "wH3ppNoKZL87",
        "colab": {
          "base_uri": "https://localhost:8080/",
          "height": 426
        },
        "outputId": "76c36942-bdad-4563-f74c-6ce9ba163853"
      },
      "source": [
        "data.corr()"
      ],
      "execution_count": 10,
      "outputs": [
        {
          "output_type": "execute_result",
          "data": {
            "text/html": [
              "<div>\n",
              "<style scoped>\n",
              "    .dataframe tbody tr th:only-of-type {\n",
              "        vertical-align: middle;\n",
              "    }\n",
              "\n",
              "    .dataframe tbody tr th {\n",
              "        vertical-align: top;\n",
              "    }\n",
              "\n",
              "    .dataframe thead th {\n",
              "        text-align: right;\n",
              "    }\n",
              "</style>\n",
              "<table border=\"1\" class=\"dataframe\">\n",
              "  <thead>\n",
              "    <tr style=\"text-align: right;\">\n",
              "      <th></th>\n",
              "      <th>age</th>\n",
              "      <th>gender</th>\n",
              "      <th>height</th>\n",
              "      <th>weight</th>\n",
              "      <th>ap_hi</th>\n",
              "      <th>ap_lo</th>\n",
              "      <th>cholesterol</th>\n",
              "      <th>gluc</th>\n",
              "      <th>smoke</th>\n",
              "      <th>alco</th>\n",
              "      <th>active</th>\n",
              "      <th>cardio</th>\n",
              "    </tr>\n",
              "  </thead>\n",
              "  <tbody>\n",
              "    <tr>\n",
              "      <th>age</th>\n",
              "      <td>1.000000</td>\n",
              "      <td>-0.022762</td>\n",
              "      <td>-0.081373</td>\n",
              "      <td>0.053567</td>\n",
              "      <td>0.020932</td>\n",
              "      <td>0.017553</td>\n",
              "      <td>0.153998</td>\n",
              "      <td>0.098529</td>\n",
              "      <td>-0.047479</td>\n",
              "      <td>-0.029674</td>\n",
              "      <td>-0.009803</td>\n",
              "      <td>0.237949</td>\n",
              "    </tr>\n",
              "    <tr>\n",
              "      <th>gender</th>\n",
              "      <td>-0.022762</td>\n",
              "      <td>1.000000</td>\n",
              "      <td>0.499033</td>\n",
              "      <td>0.155406</td>\n",
              "      <td>0.006005</td>\n",
              "      <td>0.015254</td>\n",
              "      <td>-0.035821</td>\n",
              "      <td>-0.020491</td>\n",
              "      <td>0.338135</td>\n",
              "      <td>0.170966</td>\n",
              "      <td>0.005866</td>\n",
              "      <td>0.008109</td>\n",
              "    </tr>\n",
              "    <tr>\n",
              "      <th>height</th>\n",
              "      <td>-0.081373</td>\n",
              "      <td>0.499033</td>\n",
              "      <td>1.000000</td>\n",
              "      <td>0.290968</td>\n",
              "      <td>0.005488</td>\n",
              "      <td>0.006150</td>\n",
              "      <td>-0.050226</td>\n",
              "      <td>-0.018595</td>\n",
              "      <td>0.187989</td>\n",
              "      <td>0.094419</td>\n",
              "      <td>-0.006570</td>\n",
              "      <td>-0.010821</td>\n",
              "    </tr>\n",
              "    <tr>\n",
              "      <th>weight</th>\n",
              "      <td>0.053567</td>\n",
              "      <td>0.155406</td>\n",
              "      <td>0.290968</td>\n",
              "      <td>1.000000</td>\n",
              "      <td>0.030702</td>\n",
              "      <td>0.043710</td>\n",
              "      <td>0.141768</td>\n",
              "      <td>0.106857</td>\n",
              "      <td>0.067780</td>\n",
              "      <td>0.067113</td>\n",
              "      <td>-0.016867</td>\n",
              "      <td>0.181660</td>\n",
              "    </tr>\n",
              "    <tr>\n",
              "      <th>ap_hi</th>\n",
              "      <td>0.020932</td>\n",
              "      <td>0.006005</td>\n",
              "      <td>0.005488</td>\n",
              "      <td>0.030702</td>\n",
              "      <td>1.000000</td>\n",
              "      <td>0.016086</td>\n",
              "      <td>0.023778</td>\n",
              "      <td>0.011841</td>\n",
              "      <td>-0.000922</td>\n",
              "      <td>0.001408</td>\n",
              "      <td>-0.000033</td>\n",
              "      <td>0.054475</td>\n",
              "    </tr>\n",
              "    <tr>\n",
              "      <th>ap_lo</th>\n",
              "      <td>0.017553</td>\n",
              "      <td>0.015254</td>\n",
              "      <td>0.006150</td>\n",
              "      <td>0.043710</td>\n",
              "      <td>0.016086</td>\n",
              "      <td>1.000000</td>\n",
              "      <td>0.024019</td>\n",
              "      <td>0.010806</td>\n",
              "      <td>0.005186</td>\n",
              "      <td>0.010601</td>\n",
              "      <td>0.004780</td>\n",
              "      <td>0.065719</td>\n",
              "    </tr>\n",
              "    <tr>\n",
              "      <th>cholesterol</th>\n",
              "      <td>0.153998</td>\n",
              "      <td>-0.035821</td>\n",
              "      <td>-0.050226</td>\n",
              "      <td>0.141768</td>\n",
              "      <td>0.023778</td>\n",
              "      <td>0.024019</td>\n",
              "      <td>1.000000</td>\n",
              "      <td>0.451578</td>\n",
              "      <td>0.010354</td>\n",
              "      <td>0.035760</td>\n",
              "      <td>0.009911</td>\n",
              "      <td>0.221147</td>\n",
              "    </tr>\n",
              "    <tr>\n",
              "      <th>gluc</th>\n",
              "      <td>0.098529</td>\n",
              "      <td>-0.020491</td>\n",
              "      <td>-0.018595</td>\n",
              "      <td>0.106857</td>\n",
              "      <td>0.011841</td>\n",
              "      <td>0.010806</td>\n",
              "      <td>0.451578</td>\n",
              "      <td>1.000000</td>\n",
              "      <td>-0.004756</td>\n",
              "      <td>0.011246</td>\n",
              "      <td>-0.006770</td>\n",
              "      <td>0.089307</td>\n",
              "    </tr>\n",
              "    <tr>\n",
              "      <th>smoke</th>\n",
              "      <td>-0.047479</td>\n",
              "      <td>0.338135</td>\n",
              "      <td>0.187989</td>\n",
              "      <td>0.067780</td>\n",
              "      <td>-0.000922</td>\n",
              "      <td>0.005186</td>\n",
              "      <td>0.010354</td>\n",
              "      <td>-0.004756</td>\n",
              "      <td>1.000000</td>\n",
              "      <td>0.340094</td>\n",
              "      <td>0.025858</td>\n",
              "      <td>-0.015486</td>\n",
              "    </tr>\n",
              "    <tr>\n",
              "      <th>alco</th>\n",
              "      <td>-0.029674</td>\n",
              "      <td>0.170966</td>\n",
              "      <td>0.094419</td>\n",
              "      <td>0.067113</td>\n",
              "      <td>0.001408</td>\n",
              "      <td>0.010601</td>\n",
              "      <td>0.035760</td>\n",
              "      <td>0.011246</td>\n",
              "      <td>0.340094</td>\n",
              "      <td>1.000000</td>\n",
              "      <td>0.025476</td>\n",
              "      <td>-0.007330</td>\n",
              "    </tr>\n",
              "    <tr>\n",
              "      <th>active</th>\n",
              "      <td>-0.009803</td>\n",
              "      <td>0.005866</td>\n",
              "      <td>-0.006570</td>\n",
              "      <td>-0.016867</td>\n",
              "      <td>-0.000033</td>\n",
              "      <td>0.004780</td>\n",
              "      <td>0.009911</td>\n",
              "      <td>-0.006770</td>\n",
              "      <td>0.025858</td>\n",
              "      <td>0.025476</td>\n",
              "      <td>1.000000</td>\n",
              "      <td>-0.035653</td>\n",
              "    </tr>\n",
              "    <tr>\n",
              "      <th>cardio</th>\n",
              "      <td>0.237949</td>\n",
              "      <td>0.008109</td>\n",
              "      <td>-0.010821</td>\n",
              "      <td>0.181660</td>\n",
              "      <td>0.054475</td>\n",
              "      <td>0.065719</td>\n",
              "      <td>0.221147</td>\n",
              "      <td>0.089307</td>\n",
              "      <td>-0.015486</td>\n",
              "      <td>-0.007330</td>\n",
              "      <td>-0.035653</td>\n",
              "      <td>1.000000</td>\n",
              "    </tr>\n",
              "  </tbody>\n",
              "</table>\n",
              "</div>"
            ],
            "text/plain": [
              "                  age    gender    height  ...      alco    active    cardio\n",
              "age          1.000000 -0.022762 -0.081373  ... -0.029674 -0.009803  0.237949\n",
              "gender      -0.022762  1.000000  0.499033  ...  0.170966  0.005866  0.008109\n",
              "height      -0.081373  0.499033  1.000000  ...  0.094419 -0.006570 -0.010821\n",
              "weight       0.053567  0.155406  0.290968  ...  0.067113 -0.016867  0.181660\n",
              "ap_hi        0.020932  0.006005  0.005488  ...  0.001408 -0.000033  0.054475\n",
              "ap_lo        0.017553  0.015254  0.006150  ...  0.010601  0.004780  0.065719\n",
              "cholesterol  0.153998 -0.035821 -0.050226  ...  0.035760  0.009911  0.221147\n",
              "gluc         0.098529 -0.020491 -0.018595  ...  0.011246 -0.006770  0.089307\n",
              "smoke       -0.047479  0.338135  0.187989  ...  0.340094  0.025858 -0.015486\n",
              "alco        -0.029674  0.170966  0.094419  ...  1.000000  0.025476 -0.007330\n",
              "active      -0.009803  0.005866 -0.006570  ...  0.025476  1.000000 -0.035653\n",
              "cardio       0.237949  0.008109 -0.010821  ... -0.007330 -0.035653  1.000000\n",
              "\n",
              "[12 rows x 12 columns]"
            ]
          },
          "metadata": {},
          "execution_count": 10
        }
      ]
    },
    {
      "cell_type": "code",
      "metadata": {
        "colab": {
          "base_uri": "https://localhost:8080/",
          "height": 722
        },
        "id": "XAFgJ-ULZQaz",
        "outputId": "32b3fb89-1ffd-4506-bf74-1a1b2d0efb0c"
      },
      "source": [
        "plt.figure(figsize=(15,12))\n",
        "sns.heatmap(data.corr(),annot=True)"
      ],
      "execution_count": 11,
      "outputs": [
        {
          "output_type": "execute_result",
          "data": {
            "text/plain": [
              "<matplotlib.axes._subplots.AxesSubplot at 0x7f42c6ba17d0>"
            ]
          },
          "metadata": {},
          "execution_count": 11
        },
        {
          "output_type": "display_data",
          "data": {
            "image/png": "[encoded data removed]",
            "text/plain": [
              "<Figure size 1080x864 with 2 Axes>"
            ]
          },
          "metadata": {
            "needs_background": "light"
          }
        }
      ]
    },
    {
      "cell_type": "markdown",
      "metadata": {
        "id": "kf1-30-8IlkX"
      },
      "source": [
        "The main causes of cardiovascular disease are **high blood pressure, overweight, smoking and cholestrol.**\n",
        "\n",
        "From this correlation graph we can see **that only age, weight and cholestrol are having some impact on the output variable. Also, blood pressure is not having any importance on the output.** This is due to the pressence of outliers.\n",
        "\n",
        "We also know that cholestrol and glucose have 3 different levels. So we should also try to figure out which level affects the output the most."
      ]
    },
    {
      "cell_type": "code",
      "metadata": {
        "id": "GCpJtEzP-KRR"
      },
      "source": [
        "data['cholesterol'] = data['cholesterol'].map({1:\"chol_1\",2:\"chol_2\",3:\"chol_3\"})\n",
        "\n",
        "data['gluc'] = data['gluc'].map({1:\"gluc_1\",2:\"gluc_2\",3:\"gluc_3\"})"
      ],
      "execution_count": 12,
      "outputs": []
    },
    {
      "cell_type": "code",
      "metadata": {
        "colab": {
          "base_uri": "https://localhost:8080/",
          "height": 297
        },
        "id": "1LW1ttIRb8_-",
        "outputId": "a49eaf4c-8d3d-4b2f-b178-30f45f26368d"
      },
      "source": [
        "sns.boxplot(x=data['ap_hi'])"
      ],
      "execution_count": 13,
      "outputs": [
        {
          "output_type": "execute_result",
          "data": {
            "text/plain": [
              "<matplotlib.axes._subplots.AxesSubplot at 0x7f42a7eba910>"
            ]
          },
          "metadata": {},
          "execution_count": 13
        },
        {
          "output_type": "display_data",
          "data": {
            "image/png": "[encoded data removed]",
            "text/plain": [
              "<Figure size 432x288 with 1 Axes>"
            ]
          },
          "metadata": {
            "needs_background": "light"
          }
        }
      ]
    },
    {
      "cell_type": "code",
      "metadata": {
        "colab": {
          "base_uri": "https://localhost:8080/",
          "height": 297
        },
        "id": "aEjnvZMDcNqR",
        "outputId": "01551a5f-8994-4b04-83a3-72ccf766a836"
      },
      "source": [
        "sns.boxplot(x=data['ap_lo'])"
      ],
      "execution_count": 14,
      "outputs": [
        {
          "output_type": "execute_result",
          "data": {
            "text/plain": [
              "<matplotlib.axes._subplots.AxesSubplot at 0x7f42a831fad0>"
            ]
          },
          "metadata": {},
          "execution_count": 14
        },
        {
          "output_type": "display_data",
          "data": {
            "image/png": "[encoded data removed]",
            "text/plain": [
              "<Figure size 432x288 with 1 Axes>"
            ]
          },
          "metadata": {
            "needs_background": "light"
          }
        }
      ]
    },
    {
      "cell_type": "markdown",
      "metadata": {
        "id": "sfVgm5KMxCwN"
      },
      "source": [
        "We are going to remove the outliers in **ap_hi** and **ap_lo** as these values are not measured correctly and can impact the performance of our model.\n",
        "\n"
      ]
    },
    {
      "cell_type": "code",
      "metadata": {
        "colab": {
          "base_uri": "https://localhost:8080/",
          "height": 296
        },
        "id": "MC2dmjHtcUe-",
        "outputId": "4c343e19-0bf5-41ec-e009-fd770630becb"
      },
      "source": [
        "sns.boxplot(x=data['height'])"
      ],
      "execution_count": 15,
      "outputs": [
        {
          "output_type": "execute_result",
          "data": {
            "text/plain": [
              "<matplotlib.axes._subplots.AxesSubplot at 0x7f42a65f81d0>"
            ]
          },
          "metadata": {},
          "execution_count": 15
        },
        {
          "output_type": "display_data",
          "data": {
            "image/png": "[encoded data removed]",
            "text/plain": [
              "<Figure size 432x288 with 1 Axes>"
            ]
          },
          "metadata": {
            "needs_background": "light"
          }
        }
      ]
    },
    {
      "cell_type": "code",
      "metadata": {
        "colab": {
          "base_uri": "https://localhost:8080/",
          "height": 296
        },
        "id": "XBIIZyu7coL0",
        "outputId": "9bd40cc9-32a4-4e39-a5b1-167b62b743e7"
      },
      "source": [
        "sns.boxplot(x=data['weight'])"
      ],
      "execution_count": 16,
      "outputs": [
        {
          "output_type": "execute_result",
          "data": {
            "text/plain": [
              "<matplotlib.axes._subplots.AxesSubplot at 0x7f42a6570590>"
            ]
          },
          "metadata": {},
          "execution_count": 16
        },
        {
          "output_type": "display_data",
          "data": {
            "image/png": "[encoded data removed]",
            "text/plain": [
              "<Figure size 432x288 with 1 Axes>"
            ]
          },
          "metadata": {
            "needs_background": "light"
          }
        }
      ]
    },
    {
      "cell_type": "code",
      "metadata": {
        "colab": {
          "base_uri": "https://localhost:8080/",
          "height": 283
        },
        "id": "XB__vFgTdJaf",
        "outputId": "cba5d664-d5cd-4d22-ffb7-a9ef794d8c68"
      },
      "source": [
        "sns.distplot(x=data['height'])"
      ],
      "execution_count": 17,
      "outputs": [
        {
          "output_type": "execute_result",
          "data": {
            "text/plain": [
              "<matplotlib.axes._subplots.AxesSubplot at 0x7f42a64eed90>"
            ]
          },
          "metadata": {},
          "execution_count": 17
        },
        {
          "output_type": "display_data",
          "data": {
            "image/png": "[encoded data removed]",
            "text/plain": [
              "<Figure size 432x288 with 1 Axes>"
            ]
          },
          "metadata": {
            "needs_background": "light"
          }
        }
      ]
    },
    {
      "cell_type": "code",
      "metadata": {
        "colab": {
          "base_uri": "https://localhost:8080/",
          "height": 282
        },
        "id": "pusf38P6dSWJ",
        "outputId": "e2a23a92-7675-4db6-b1dc-8c22e4d00193"
      },
      "source": [
        "sns.distplot(x=data['weight'])"
      ],
      "execution_count": 18,
      "outputs": [
        {
          "output_type": "execute_result",
          "data": {
            "text/plain": [
              "<matplotlib.axes._subplots.AxesSubplot at 0x7f42a6439090>"
            ]
          },
          "metadata": {},
          "execution_count": 18
        },
        {
          "output_type": "display_data",
          "data": {
            "image/png": "[encoded data removed]",
            "text/plain": [
              "<Figure size 432x288 with 1 Axes>"
            ]
          },
          "metadata": {
            "needs_background": "light"
          }
        }
      ]
    },
    {
      "cell_type": "code",
      "metadata": {
        "colab": {
          "base_uri": "https://localhost:8080/",
          "height": 282
        },
        "id": "7zx3WqLQdXk0",
        "outputId": "77580bf8-a924-4444-80e7-edcc1db8233a"
      },
      "source": [
        "sns.distplot(x=data['ap_hi'])"
      ],
      "execution_count": 19,
      "outputs": [
        {
          "output_type": "execute_result",
          "data": {
            "text/plain": [
              "<matplotlib.axes._subplots.AxesSubplot at 0x7f42a42d9450>"
            ]
          },
          "metadata": {},
          "execution_count": 19
        },
        {
          "output_type": "display_data",
          "data": {
            "image/png": "[encoded data removed]",
            "text/plain": [
              "<Figure size 432x288 with 1 Axes>"
            ]
          },
          "metadata": {
            "needs_background": "light"
          }
        }
      ]
    },
    {
      "cell_type": "code",
      "metadata": {
        "colab": {
          "base_uri": "https://localhost:8080/",
          "height": 282
        },
        "id": "fqnHwReldfaG",
        "outputId": "abda9415-9a90-4bf4-9c50-4b9ae349ac3c"
      },
      "source": [
        "sns.distplot(x=data['ap_lo'])"
      ],
      "execution_count": 20,
      "outputs": [
        {
          "output_type": "execute_result",
          "data": {
            "text/plain": [
              "<matplotlib.axes._subplots.AxesSubplot at 0x7f42a4196a90>"
            ]
          },
          "metadata": {},
          "execution_count": 20
        },
        {
          "output_type": "display_data",
          "data": {
            "image/png": "[encoded data removed]",
            "text/plain": [
              "<Figure size 432x288 with 1 Axes>"
            ]
          },
          "metadata": {
            "needs_background": "light"
          }
        }
      ]
    },
    {
      "cell_type": "code",
      "metadata": {
        "colab": {
          "base_uri": "https://localhost:8080/",
          "height": 296
        },
        "id": "DGCw6f54Gftn",
        "outputId": "fb241918-eae5-4588-afff-20535af95e05"
      },
      "source": [
        "sns.countplot(x=data['cardio'])"
      ],
      "execution_count": 21,
      "outputs": [
        {
          "output_type": "execute_result",
          "data": {
            "text/plain": [
              "<matplotlib.axes._subplots.AxesSubplot at 0x7f42a4100890>"
            ]
          },
          "metadata": {},
          "execution_count": 21
        },
        {
          "output_type": "display_data",
          "data": {
            "image/png": "[encoded data removed]",
            "text/plain": [
              "<Figure size 432x288 with 1 Axes>"
            ]
          },
          "metadata": {
            "needs_background": "light"
          }
        }
      ]
    },
    {
      "cell_type": "markdown",
      "metadata": {
        "id": "xd1wYE1AGyVm"
      },
      "source": [
        "This is a balanced dataset since the count of each of the output classes is same."
      ]
    },
    {
      "cell_type": "code",
      "metadata": {
        "colab": {
          "base_uri": "https://localhost:8080/",
          "height": 297
        },
        "id": "ZXGTvRv7fTng",
        "outputId": "5866c076-ac37-4afe-bf43-ebfe71bbb358"
      },
      "source": [
        "sns.countplot(x=data['gluc'],hue=data['cardio'])"
      ],
      "execution_count": 22,
      "outputs": [
        {
          "output_type": "execute_result",
          "data": {
            "text/plain": [
              "<matplotlib.axes._subplots.AxesSubplot at 0x7f42a407ec50>"
            ]
          },
          "metadata": {},
          "execution_count": 22
        },
        {
          "output_type": "display_data",
          "data": {
            "image/png": "[encoded data removed]",
            "text/plain": [
              "<Figure size 432x288 with 1 Axes>"
            ]
          },
          "metadata": {
            "needs_background": "light"
          }
        }
      ]
    },
    {
      "cell_type": "code",
      "metadata": {
        "colab": {
          "base_uri": "https://localhost:8080/",
          "height": 297
        },
        "id": "quNFOgcw0Jg5",
        "outputId": "f2260d64-3dec-4c2f-ec91-932a82aaf61d"
      },
      "source": [
        "sns.countplot(x=data['cholesterol'],hue=data['cardio'])"
      ],
      "execution_count": 23,
      "outputs": [
        {
          "output_type": "execute_result",
          "data": {
            "text/plain": [
              "<matplotlib.axes._subplots.AxesSubplot at 0x7f42a7ead0d0>"
            ]
          },
          "metadata": {},
          "execution_count": 23
        },
        {
          "output_type": "display_data",
          "data": {
            "image/png": "[encoded data removed]",
            "text/plain": [
              "<Figure size 432x288 with 1 Axes>"
            ]
          },
          "metadata": {
            "needs_background": "light"
          }
        }
      ]
    },
    {
      "cell_type": "markdown",
      "metadata": {
        "id": "cccfDpCz2G2S"
      },
      "source": [
        "We can see that as the levels of glucose and cholestrol are increases, the chances of having cardiovascular disease may increase."
      ]
    },
    {
      "cell_type": "code",
      "metadata": {
        "colab": {
          "base_uri": "https://localhost:8080/",
          "height": 300
        },
        "id": "6dru9-w-0wTm",
        "outputId": "65a9cecb-f4df-4e97-db05-c4943276fe45"
      },
      "source": [
        "sns.countplot(x=data['active'],hue=data['cardio'])"
      ],
      "execution_count": 24,
      "outputs": [
        {
          "output_type": "execute_result",
          "data": {
            "text/plain": [
              "<matplotlib.axes._subplots.AxesSubplot at 0x7f42a66458d0>"
            ]
          },
          "metadata": {},
          "execution_count": 24
        },
        {
          "output_type": "display_data",
          "data": {
            "image/png": "[encoded data removed]",
            "text/plain": [
              "<Figure size 432x288 with 1 Axes>"
            ]
          },
          "metadata": {
            "needs_background": "light"
          }
        }
      ]
    },
    {
      "cell_type": "code",
      "metadata": {
        "colab": {
          "base_uri": "https://localhost:8080/",
          "height": 296
        },
        "id": "WVlf-AD10-Z3",
        "outputId": "4a4af5ef-bab4-4034-9f62-cc9cf3e0514e"
      },
      "source": [
        "sns.countplot(x=data['gender'],hue=data['cardio'])"
      ],
      "execution_count": 25,
      "outputs": [
        {
          "output_type": "execute_result",
          "data": {
            "text/plain": [
              "<matplotlib.axes._subplots.AxesSubplot at 0x7f42a6627690>"
            ]
          },
          "metadata": {},
          "execution_count": 25
        },
        {
          "output_type": "display_data",
          "data": {
            "image/png": "[encoded data removed]",
            "text/plain": [
              "<Figure size 432x288 with 1 Axes>"
            ]
          },
          "metadata": {
            "needs_background": "light"
          }
        }
      ]
    },
    {
      "cell_type": "code",
      "metadata": {
        "colab": {
          "base_uri": "https://localhost:8080/",
          "height": 296
        },
        "id": "HEStXdVT1WGE",
        "outputId": "e9eff123-f443-4899-f9eb-8c80f12685ea"
      },
      "source": [
        "sns.countplot(x=data['alco'],hue=data['cardio'])"
      ],
      "execution_count": 26,
      "outputs": [
        {
          "output_type": "execute_result",
          "data": {
            "text/plain": [
              "<matplotlib.axes._subplots.AxesSubplot at 0x7f42a3f00310>"
            ]
          },
          "metadata": {},
          "execution_count": 26
        },
        {
          "output_type": "display_data",
          "data": {
            "image/png": "[encoded data removed]",
            "text/plain": [
              "<Figure size 432x288 with 1 Axes>"
            ]
          },
          "metadata": {
            "needs_background": "light"
          }
        }
      ]
    },
    {
      "cell_type": "code",
      "metadata": {
        "colab": {
          "base_uri": "https://localhost:8080/",
          "height": 296
        },
        "id": "1g_Luz-lMsoH",
        "outputId": "254b60ed-2a6b-41f6-e66c-6f83fbbeb731"
      },
      "source": [
        "sns.countplot(x=data['smoke'],hue=data['cardio'])"
      ],
      "execution_count": 27,
      "outputs": [
        {
          "output_type": "execute_result",
          "data": {
            "text/plain": [
              "<matplotlib.axes._subplots.AxesSubplot at 0x7f42a3e543d0>"
            ]
          },
          "metadata": {},
          "execution_count": 27
        },
        {
          "output_type": "display_data",
          "data": {
            "image/png": "[encoded data removed]",
            "text/plain": [
              "<Figure size 432x288 with 1 Axes>"
            ]
          },
          "metadata": {
            "needs_background": "light"
          }
        }
      ]
    },
    {
      "cell_type": "code",
      "metadata": {
        "id": "fprdBgGmyTml"
      },
      "source": [
        "def remove_outliers(arr):\n",
        "    q1 = np.percentile(arr,25)\n",
        "    q3 = np.percentile(arr,75)\n",
        "    iqr = q3 - q1\n",
        "    lower_bound = q1 - (1.5 * iqr)\n",
        "    upper_bound = q3 + (1.5 * iqr)\n",
        "    for i in range(0,len(arr)):\n",
        "        if arr[i] >= upper_bound or arr[i] <= lower_bound:\n",
        "            arr[i] = np.nan"
      ],
      "execution_count": 28,
      "outputs": []
    },
    {
      "cell_type": "code",
      "metadata": {
        "id": "gZwTDXkbyxcT"
      },
      "source": [
        "remove_outliers(data['ap_hi'])\n",
        "remove_outliers(data['ap_lo'])\n",
        "remove_outliers(data['height'])\n",
        "remove_outliers(data['weight'])"
      ],
      "execution_count": 29,
      "outputs": []
    },
    {
      "cell_type": "code",
      "metadata": {
        "colab": {
          "base_uri": "https://localhost:8080/",
          "height": 424
        },
        "id": "wvVyFYPT7jBR",
        "outputId": "4ddd24ba-0120-450e-bd2a-ce276e07656e"
      },
      "source": [
        "data"
      ],
      "execution_count": 30,
      "outputs": [
        {
          "output_type": "execute_result",
          "data": {
            "text/html": [
              "<div>\n",
              "<style scoped>\n",
              "    .dataframe tbody tr th:only-of-type {\n",
              "        vertical-align: middle;\n",
              "    }\n",
              "\n",
              "    .dataframe tbody tr th {\n",
              "        vertical-align: top;\n",
              "    }\n",
              "\n",
              "    .dataframe thead th {\n",
              "        text-align: right;\n",
              "    }\n",
              "</style>\n",
              "<table border=\"1\" class=\"dataframe\">\n",
              "  <thead>\n",
              "    <tr style=\"text-align: right;\">\n",
              "      <th></th>\n",
              "      <th>age</th>\n",
              "      <th>gender</th>\n",
              "      <th>height</th>\n",
              "      <th>weight</th>\n",
              "      <th>ap_hi</th>\n",
              "      <th>ap_lo</th>\n",
              "      <th>cholesterol</th>\n",
              "      <th>gluc</th>\n",
              "      <th>smoke</th>\n",
              "      <th>alco</th>\n",
              "      <th>active</th>\n",
              "      <th>cardio</th>\n",
              "    </tr>\n",
              "  </thead>\n",
              "  <tbody>\n",
              "    <tr>\n",
              "      <th>0</th>\n",
              "      <td>50</td>\n",
              "      <td>1</td>\n",
              "      <td>168.0</td>\n",
              "      <td>62.0</td>\n",
              "      <td>110.0</td>\n",
              "      <td>80.0</td>\n",
              "      <td>chol_1</td>\n",
              "      <td>gluc_1</td>\n",
              "      <td>0</td>\n",
              "      <td>0</td>\n",
              "      <td>1</td>\n",
              "      <td>0</td>\n",
              "    </tr>\n",
              "    <tr>\n",
              "      <th>1</th>\n",
              "      <td>55</td>\n",
              "      <td>0</td>\n",
              "      <td>156.0</td>\n",
              "      <td>85.0</td>\n",
              "      <td>140.0</td>\n",
              "      <td>90.0</td>\n",
              "      <td>chol_3</td>\n",
              "      <td>gluc_1</td>\n",
              "      <td>0</td>\n",
              "      <td>0</td>\n",
              "      <td>1</td>\n",
              "      <td>1</td>\n",
              "    </tr>\n",
              "    <tr>\n",
              "      <th>2</th>\n",
              "      <td>51</td>\n",
              "      <td>0</td>\n",
              "      <td>165.0</td>\n",
              "      <td>64.0</td>\n",
              "      <td>130.0</td>\n",
              "      <td>70.0</td>\n",
              "      <td>chol_3</td>\n",
              "      <td>gluc_1</td>\n",
              "      <td>0</td>\n",
              "      <td>0</td>\n",
              "      <td>0</td>\n",
              "      <td>1</td>\n",
              "    </tr>\n",
              "    <tr>\n",
              "      <th>3</th>\n",
              "      <td>48</td>\n",
              "      <td>1</td>\n",
              "      <td>169.0</td>\n",
              "      <td>82.0</td>\n",
              "      <td>150.0</td>\n",
              "      <td>100.0</td>\n",
              "      <td>chol_1</td>\n",
              "      <td>gluc_1</td>\n",
              "      <td>0</td>\n",
              "      <td>0</td>\n",
              "      <td>1</td>\n",
              "      <td>1</td>\n",
              "    </tr>\n",
              "    <tr>\n",
              "      <th>4</th>\n",
              "      <td>47</td>\n",
              "      <td>0</td>\n",
              "      <td>156.0</td>\n",
              "      <td>56.0</td>\n",
              "      <td>100.0</td>\n",
              "      <td>NaN</td>\n",
              "      <td>chol_1</td>\n",
              "      <td>gluc_1</td>\n",
              "      <td>0</td>\n",
              "      <td>0</td>\n",
              "      <td>0</td>\n",
              "      <td>0</td>\n",
              "    </tr>\n",
              "    <tr>\n",
              "      <th>...</th>\n",
              "      <td>...</td>\n",
              "      <td>...</td>\n",
              "      <td>...</td>\n",
              "      <td>...</td>\n",
              "      <td>...</td>\n",
              "      <td>...</td>\n",
              "      <td>...</td>\n",
              "      <td>...</td>\n",
              "      <td>...</td>\n",
              "      <td>...</td>\n",
              "      <td>...</td>\n",
              "      <td>...</td>\n",
              "    </tr>\n",
              "    <tr>\n",
              "      <th>69995</th>\n",
              "      <td>52</td>\n",
              "      <td>1</td>\n",
              "      <td>168.0</td>\n",
              "      <td>76.0</td>\n",
              "      <td>120.0</td>\n",
              "      <td>80.0</td>\n",
              "      <td>chol_1</td>\n",
              "      <td>gluc_1</td>\n",
              "      <td>1</td>\n",
              "      <td>0</td>\n",
              "      <td>1</td>\n",
              "      <td>0</td>\n",
              "    </tr>\n",
              "    <tr>\n",
              "      <th>69996</th>\n",
              "      <td>61</td>\n",
              "      <td>0</td>\n",
              "      <td>158.0</td>\n",
              "      <td>NaN</td>\n",
              "      <td>140.0</td>\n",
              "      <td>90.0</td>\n",
              "      <td>chol_2</td>\n",
              "      <td>gluc_2</td>\n",
              "      <td>0</td>\n",
              "      <td>0</td>\n",
              "      <td>1</td>\n",
              "      <td>1</td>\n",
              "    </tr>\n",
              "    <tr>\n",
              "      <th>69997</th>\n",
              "      <td>52</td>\n",
              "      <td>1</td>\n",
              "      <td>183.0</td>\n",
              "      <td>105.0</td>\n",
              "      <td>NaN</td>\n",
              "      <td>90.0</td>\n",
              "      <td>chol_3</td>\n",
              "      <td>gluc_1</td>\n",
              "      <td>0</td>\n",
              "      <td>1</td>\n",
              "      <td>0</td>\n",
              "      <td>1</td>\n",
              "    </tr>\n",
              "    <tr>\n",
              "      <th>69998</th>\n",
              "      <td>61</td>\n",
              "      <td>0</td>\n",
              "      <td>163.0</td>\n",
              "      <td>72.0</td>\n",
              "      <td>135.0</td>\n",
              "      <td>80.0</td>\n",
              "      <td>chol_1</td>\n",
              "      <td>gluc_2</td>\n",
              "      <td>0</td>\n",
              "      <td>0</td>\n",
              "      <td>0</td>\n",
              "      <td>1</td>\n",
              "    </tr>\n",
              "    <tr>\n",
              "      <th>69999</th>\n",
              "      <td>56</td>\n",
              "      <td>0</td>\n",
              "      <td>170.0</td>\n",
              "      <td>72.0</td>\n",
              "      <td>120.0</td>\n",
              "      <td>80.0</td>\n",
              "      <td>chol_2</td>\n",
              "      <td>gluc_1</td>\n",
              "      <td>0</td>\n",
              "      <td>0</td>\n",
              "      <td>1</td>\n",
              "      <td>0</td>\n",
              "    </tr>\n",
              "  </tbody>\n",
              "</table>\n",
              "<p>70000 rows × 12 columns</p>\n",
              "</div>"
            ],
            "text/plain": [
              "       age  gender  height  weight  ap_hi  ...    gluc smoke alco  active  cardio\n",
              "0       50       1   168.0    62.0  110.0  ...  gluc_1     0    0       1       0\n",
              "1       55       0   156.0    85.0  140.0  ...  gluc_1     0    0       1       1\n",
              "2       51       0   165.0    64.0  130.0  ...  gluc_1     0    0       0       1\n",
              "3       48       1   169.0    82.0  150.0  ...  gluc_1     0    0       1       1\n",
              "4       47       0   156.0    56.0  100.0  ...  gluc_1     0    0       0       0\n",
              "...    ...     ...     ...     ...    ...  ...     ...   ...  ...     ...     ...\n",
              "69995   52       1   168.0    76.0  120.0  ...  gluc_1     1    0       1       0\n",
              "69996   61       0   158.0     NaN  140.0  ...  gluc_2     0    0       1       1\n",
              "69997   52       1   183.0   105.0    NaN  ...  gluc_1     0    1       0       1\n",
              "69998   61       0   163.0    72.0  135.0  ...  gluc_2     0    0       0       1\n",
              "69999   56       0   170.0    72.0  120.0  ...  gluc_1     0    0       1       0\n",
              "\n",
              "[70000 rows x 12 columns]"
            ]
          },
          "metadata": {},
          "execution_count": 30
        }
      ]
    },
    {
      "cell_type": "code",
      "metadata": {
        "id": "RWkVU5yW7mY-"
      },
      "source": [
        "data = data.dropna()"
      ],
      "execution_count": 31,
      "outputs": []
    },
    {
      "cell_type": "markdown",
      "metadata": {
        "id": "nYLQMznXCusf"
      },
      "source": [
        "Dropping the outliers from data."
      ]
    },
    {
      "cell_type": "code",
      "metadata": {
        "colab": {
          "base_uri": "https://localhost:8080/",
          "height": 424
        },
        "id": "btTBWM777t6M",
        "outputId": "8d72c5ba-5402-4141-defb-ff2417547d4c"
      },
      "source": [
        "data"
      ],
      "execution_count": 32,
      "outputs": [
        {
          "output_type": "execute_result",
          "data": {
            "text/html": [
              "<div>\n",
              "<style scoped>\n",
              "    .dataframe tbody tr th:only-of-type {\n",
              "        vertical-align: middle;\n",
              "    }\n",
              "\n",
              "    .dataframe tbody tr th {\n",
              "        vertical-align: top;\n",
              "    }\n",
              "\n",
              "    .dataframe thead th {\n",
              "        text-align: right;\n",
              "    }\n",
              "</style>\n",
              "<table border=\"1\" class=\"dataframe\">\n",
              "  <thead>\n",
              "    <tr style=\"text-align: right;\">\n",
              "      <th></th>\n",
              "      <th>age</th>\n",
              "      <th>gender</th>\n",
              "      <th>height</th>\n",
              "      <th>weight</th>\n",
              "      <th>ap_hi</th>\n",
              "      <th>ap_lo</th>\n",
              "      <th>cholesterol</th>\n",
              "      <th>gluc</th>\n",
              "      <th>smoke</th>\n",
              "      <th>alco</th>\n",
              "      <th>active</th>\n",
              "      <th>cardio</th>\n",
              "    </tr>\n",
              "  </thead>\n",
              "  <tbody>\n",
              "    <tr>\n",
              "      <th>0</th>\n",
              "      <td>50</td>\n",
              "      <td>1</td>\n",
              "      <td>168.0</td>\n",
              "      <td>62.0</td>\n",
              "      <td>110.0</td>\n",
              "      <td>80.0</td>\n",
              "      <td>chol_1</td>\n",
              "      <td>gluc_1</td>\n",
              "      <td>0</td>\n",
              "      <td>0</td>\n",
              "      <td>1</td>\n",
              "      <td>0</td>\n",
              "    </tr>\n",
              "    <tr>\n",
              "      <th>1</th>\n",
              "      <td>55</td>\n",
              "      <td>0</td>\n",
              "      <td>156.0</td>\n",
              "      <td>85.0</td>\n",
              "      <td>140.0</td>\n",
              "      <td>90.0</td>\n",
              "      <td>chol_3</td>\n",
              "      <td>gluc_1</td>\n",
              "      <td>0</td>\n",
              "      <td>0</td>\n",
              "      <td>1</td>\n",
              "      <td>1</td>\n",
              "    </tr>\n",
              "    <tr>\n",
              "      <th>2</th>\n",
              "      <td>51</td>\n",
              "      <td>0</td>\n",
              "      <td>165.0</td>\n",
              "      <td>64.0</td>\n",
              "      <td>130.0</td>\n",
              "      <td>70.0</td>\n",
              "      <td>chol_3</td>\n",
              "      <td>gluc_1</td>\n",
              "      <td>0</td>\n",
              "      <td>0</td>\n",
              "      <td>0</td>\n",
              "      <td>1</td>\n",
              "    </tr>\n",
              "    <tr>\n",
              "      <th>3</th>\n",
              "      <td>48</td>\n",
              "      <td>1</td>\n",
              "      <td>169.0</td>\n",
              "      <td>82.0</td>\n",
              "      <td>150.0</td>\n",
              "      <td>100.0</td>\n",
              "      <td>chol_1</td>\n",
              "      <td>gluc_1</td>\n",
              "      <td>0</td>\n",
              "      <td>0</td>\n",
              "      <td>1</td>\n",
              "      <td>1</td>\n",
              "    </tr>\n",
              "    <tr>\n",
              "      <th>5</th>\n",
              "      <td>59</td>\n",
              "      <td>0</td>\n",
              "      <td>151.0</td>\n",
              "      <td>67.0</td>\n",
              "      <td>120.0</td>\n",
              "      <td>80.0</td>\n",
              "      <td>chol_2</td>\n",
              "      <td>gluc_2</td>\n",
              "      <td>0</td>\n",
              "      <td>0</td>\n",
              "      <td>0</td>\n",
              "      <td>0</td>\n",
              "    </tr>\n",
              "    <tr>\n",
              "      <th>...</th>\n",
              "      <td>...</td>\n",
              "      <td>...</td>\n",
              "      <td>...</td>\n",
              "      <td>...</td>\n",
              "      <td>...</td>\n",
              "      <td>...</td>\n",
              "      <td>...</td>\n",
              "      <td>...</td>\n",
              "      <td>...</td>\n",
              "      <td>...</td>\n",
              "      <td>...</td>\n",
              "      <td>...</td>\n",
              "    </tr>\n",
              "    <tr>\n",
              "      <th>69993</th>\n",
              "      <td>53</td>\n",
              "      <td>0</td>\n",
              "      <td>172.0</td>\n",
              "      <td>70.0</td>\n",
              "      <td>130.0</td>\n",
              "      <td>90.0</td>\n",
              "      <td>chol_1</td>\n",
              "      <td>gluc_1</td>\n",
              "      <td>0</td>\n",
              "      <td>0</td>\n",
              "      <td>1</td>\n",
              "      <td>1</td>\n",
              "    </tr>\n",
              "    <tr>\n",
              "      <th>69994</th>\n",
              "      <td>57</td>\n",
              "      <td>0</td>\n",
              "      <td>165.0</td>\n",
              "      <td>80.0</td>\n",
              "      <td>150.0</td>\n",
              "      <td>80.0</td>\n",
              "      <td>chol_1</td>\n",
              "      <td>gluc_1</td>\n",
              "      <td>0</td>\n",
              "      <td>0</td>\n",
              "      <td>1</td>\n",
              "      <td>1</td>\n",
              "    </tr>\n",
              "    <tr>\n",
              "      <th>69995</th>\n",
              "      <td>52</td>\n",
              "      <td>1</td>\n",
              "      <td>168.0</td>\n",
              "      <td>76.0</td>\n",
              "      <td>120.0</td>\n",
              "      <td>80.0</td>\n",
              "      <td>chol_1</td>\n",
              "      <td>gluc_1</td>\n",
              "      <td>1</td>\n",
              "      <td>0</td>\n",
              "      <td>1</td>\n",
              "      <td>0</td>\n",
              "    </tr>\n",
              "    <tr>\n",
              "      <th>69998</th>\n",
              "      <td>61</td>\n",
              "      <td>0</td>\n",
              "      <td>163.0</td>\n",
              "      <td>72.0</td>\n",
              "      <td>135.0</td>\n",
              "      <td>80.0</td>\n",
              "      <td>chol_1</td>\n",
              "      <td>gluc_2</td>\n",
              "      <td>0</td>\n",
              "      <td>0</td>\n",
              "      <td>0</td>\n",
              "      <td>1</td>\n",
              "    </tr>\n",
              "    <tr>\n",
              "      <th>69999</th>\n",
              "      <td>56</td>\n",
              "      <td>0</td>\n",
              "      <td>170.0</td>\n",
              "      <td>72.0</td>\n",
              "      <td>120.0</td>\n",
              "      <td>80.0</td>\n",
              "      <td>chol_2</td>\n",
              "      <td>gluc_1</td>\n",
              "      <td>0</td>\n",
              "      <td>0</td>\n",
              "      <td>1</td>\n",
              "      <td>0</td>\n",
              "    </tr>\n",
              "  </tbody>\n",
              "</table>\n",
              "<p>61774 rows × 12 columns</p>\n",
              "</div>"
            ],
            "text/plain": [
              "       age  gender  height  weight  ap_hi  ...    gluc smoke alco  active  cardio\n",
              "0       50       1   168.0    62.0  110.0  ...  gluc_1     0    0       1       0\n",
              "1       55       0   156.0    85.0  140.0  ...  gluc_1     0    0       1       1\n",
              "2       51       0   165.0    64.0  130.0  ...  gluc_1     0    0       0       1\n",
              "3       48       1   169.0    82.0  150.0  ...  gluc_1     0    0       1       1\n",
              "5       59       0   151.0    67.0  120.0  ...  gluc_2     0    0       0       0\n",
              "...    ...     ...     ...     ...    ...  ...     ...   ...  ...     ...     ...\n",
              "69993   53       0   172.0    70.0  130.0  ...  gluc_1     0    0       1       1\n",
              "69994   57       0   165.0    80.0  150.0  ...  gluc_1     0    0       1       1\n",
              "69995   52       1   168.0    76.0  120.0  ...  gluc_1     1    0       1       0\n",
              "69998   61       0   163.0    72.0  135.0  ...  gluc_2     0    0       0       1\n",
              "69999   56       0   170.0    72.0  120.0  ...  gluc_1     0    0       1       0\n",
              "\n",
              "[61774 rows x 12 columns]"
            ]
          },
          "metadata": {},
          "execution_count": 32
        }
      ]
    },
    {
      "cell_type": "code",
      "metadata": {
        "colab": {
          "base_uri": "https://localhost:8080/"
        },
        "id": "4S1Qdq168Rhp",
        "outputId": "1bd679ef-f91b-49ba-eb52-a504fd08eb17"
      },
      "source": [
        "data.info()"
      ],
      "execution_count": 33,
      "outputs": [
        {
          "output_type": "stream",
          "name": "stdout",
          "text": [
            "<class 'pandas.core.frame.DataFrame'>\n",
            "Int64Index: 61774 entries, 0 to 69999\n",
            "Data columns (total 12 columns):\n",
            " #   Column       Non-Null Count  Dtype  \n",
            "---  ------       --------------  -----  \n",
            " 0   age          61774 non-null  int64  \n",
            " 1   gender       61774 non-null  int64  \n",
            " 2   height       61774 non-null  float64\n",
            " 3   weight       61774 non-null  float64\n",
            " 4   ap_hi        61774 non-null  float64\n",
            " 5   ap_lo        61774 non-null  float64\n",
            " 6   cholesterol  61774 non-null  object \n",
            " 7   gluc         61774 non-null  object \n",
            " 8   smoke        61774 non-null  int64  \n",
            " 9   alco         61774 non-null  int64  \n",
            " 10  active       61774 non-null  int64  \n",
            " 11  cardio       61774 non-null  int64  \n",
            "dtypes: float64(4), int64(6), object(2)\n",
            "memory usage: 6.1+ MB\n"
          ]
        }
      ]
    },
    {
      "cell_type": "code",
      "metadata": {
        "colab": {
          "base_uri": "https://localhost:8080/",
          "height": 300
        },
        "id": "e04z2qZU8hCk",
        "outputId": "111a35ab-c7a3-4ac3-8392-439b19480384"
      },
      "source": [
        "data.describe()"
      ],
      "execution_count": 34,
      "outputs": [
        {
          "output_type": "execute_result",
          "data": {
            "text/html": [
              "<div>\n",
              "<style scoped>\n",
              "    .dataframe tbody tr th:only-of-type {\n",
              "        vertical-align: middle;\n",
              "    }\n",
              "\n",
              "    .dataframe tbody tr th {\n",
              "        vertical-align: top;\n",
              "    }\n",
              "\n",
              "    .dataframe thead th {\n",
              "        text-align: right;\n",
              "    }\n",
              "</style>\n",
              "<table border=\"1\" class=\"dataframe\">\n",
              "  <thead>\n",
              "    <tr style=\"text-align: right;\">\n",
              "      <th></th>\n",
              "      <th>age</th>\n",
              "      <th>gender</th>\n",
              "      <th>height</th>\n",
              "      <th>weight</th>\n",
              "      <th>ap_hi</th>\n",
              "      <th>ap_lo</th>\n",
              "      <th>smoke</th>\n",
              "      <th>alco</th>\n",
              "      <th>active</th>\n",
              "      <th>cardio</th>\n",
              "    </tr>\n",
              "  </thead>\n",
              "  <tbody>\n",
              "    <tr>\n",
              "      <th>count</th>\n",
              "      <td>61774.000000</td>\n",
              "      <td>61774.000000</td>\n",
              "      <td>61774.000000</td>\n",
              "      <td>61774.000000</td>\n",
              "      <td>61774.000000</td>\n",
              "      <td>61774.000000</td>\n",
              "      <td>61774.000000</td>\n",
              "      <td>61774.000000</td>\n",
              "      <td>61774.000000</td>\n",
              "      <td>61774.000000</td>\n",
              "    </tr>\n",
              "    <tr>\n",
              "      <th>mean</th>\n",
              "      <td>52.861981</td>\n",
              "      <td>0.348836</td>\n",
              "      <td>164.421634</td>\n",
              "      <td>73.158325</td>\n",
              "      <td>126.181727</td>\n",
              "      <td>81.650921</td>\n",
              "      <td>0.086428</td>\n",
              "      <td>0.052012</td>\n",
              "      <td>0.804319</td>\n",
              "      <td>0.491841</td>\n",
              "    </tr>\n",
              "    <tr>\n",
              "      <th>std</th>\n",
              "      <td>6.736562</td>\n",
              "      <td>0.476606</td>\n",
              "      <td>7.526350</td>\n",
              "      <td>12.247123</td>\n",
              "      <td>13.692507</td>\n",
              "      <td>7.566292</td>\n",
              "      <td>0.280997</td>\n",
              "      <td>0.222053</td>\n",
              "      <td>0.396727</td>\n",
              "      <td>0.499937</td>\n",
              "    </tr>\n",
              "    <tr>\n",
              "      <th>min</th>\n",
              "      <td>29.000000</td>\n",
              "      <td>0.000000</td>\n",
              "      <td>143.000000</td>\n",
              "      <td>40.000000</td>\n",
              "      <td>95.000000</td>\n",
              "      <td>66.000000</td>\n",
              "      <td>0.000000</td>\n",
              "      <td>0.000000</td>\n",
              "      <td>0.000000</td>\n",
              "      <td>0.000000</td>\n",
              "    </tr>\n",
              "    <tr>\n",
              "      <th>25%</th>\n",
              "      <td>48.000000</td>\n",
              "      <td>0.000000</td>\n",
              "      <td>159.000000</td>\n",
              "      <td>65.000000</td>\n",
              "      <td>120.000000</td>\n",
              "      <td>80.000000</td>\n",
              "      <td>0.000000</td>\n",
              "      <td>0.000000</td>\n",
              "      <td>1.000000</td>\n",
              "      <td>0.000000</td>\n",
              "    </tr>\n",
              "    <tr>\n",
              "      <th>50%</th>\n",
              "      <td>53.000000</td>\n",
              "      <td>0.000000</td>\n",
              "      <td>165.000000</td>\n",
              "      <td>72.000000</td>\n",
              "      <td>120.000000</td>\n",
              "      <td>80.000000</td>\n",
              "      <td>0.000000</td>\n",
              "      <td>0.000000</td>\n",
              "      <td>1.000000</td>\n",
              "      <td>0.000000</td>\n",
              "    </tr>\n",
              "    <tr>\n",
              "      <th>75%</th>\n",
              "      <td>58.000000</td>\n",
              "      <td>1.000000</td>\n",
              "      <td>170.000000</td>\n",
              "      <td>81.000000</td>\n",
              "      <td>140.000000</td>\n",
              "      <td>90.000000</td>\n",
              "      <td>0.000000</td>\n",
              "      <td>0.000000</td>\n",
              "      <td>1.000000</td>\n",
              "      <td>1.000000</td>\n",
              "    </tr>\n",
              "    <tr>\n",
              "      <th>max</th>\n",
              "      <td>64.000000</td>\n",
              "      <td>1.000000</td>\n",
              "      <td>186.000000</td>\n",
              "      <td>107.000000</td>\n",
              "      <td>169.000000</td>\n",
              "      <td>104.000000</td>\n",
              "      <td>1.000000</td>\n",
              "      <td>1.000000</td>\n",
              "      <td>1.000000</td>\n",
              "      <td>1.000000</td>\n",
              "    </tr>\n",
              "  </tbody>\n",
              "</table>\n",
              "</div>"
            ],
            "text/plain": [
              "                age        gender  ...        active        cardio\n",
              "count  61774.000000  61774.000000  ...  61774.000000  61774.000000\n",
              "mean      52.861981      0.348836  ...      0.804319      0.491841\n",
              "std        6.736562      0.476606  ...      0.396727      0.499937\n",
              "min       29.000000      0.000000  ...      0.000000      0.000000\n",
              "25%       48.000000      0.000000  ...      1.000000      0.000000\n",
              "50%       53.000000      0.000000  ...      1.000000      0.000000\n",
              "75%       58.000000      1.000000  ...      1.000000      1.000000\n",
              "max       64.000000      1.000000  ...      1.000000      1.000000\n",
              "\n",
              "[8 rows x 10 columns]"
            ]
          },
          "metadata": {},
          "execution_count": 34
        }
      ]
    },
    {
      "cell_type": "code",
      "metadata": {
        "id": "gXtyvINk-c3B"
      },
      "source": [
        "Chol = pd.get_dummies(data['cholesterol'])\n",
        "Gluc = pd.get_dummies(data['gluc'])\n",
        "\n",
        "data = pd.concat([data,Chol,Gluc],axis=1)"
      ],
      "execution_count": 35,
      "outputs": []
    },
    {
      "cell_type": "code",
      "metadata": {
        "colab": {
          "base_uri": "https://localhost:8080/",
          "height": 424
        },
        "id": "MGlwgUc18ViU",
        "outputId": "1368b745-2438-48b3-c977-936c7617f7c1"
      },
      "source": [
        "data"
      ],
      "execution_count": 36,
      "outputs": [
        {
          "output_type": "execute_result",
          "data": {
            "text/html": [
              "<div>\n",
              "<style scoped>\n",
              "    .dataframe tbody tr th:only-of-type {\n",
              "        vertical-align: middle;\n",
              "    }\n",
              "\n",
              "    .dataframe tbody tr th {\n",
              "        vertical-align: top;\n",
              "    }\n",
              "\n",
              "    .dataframe thead th {\n",
              "        text-align: right;\n",
              "    }\n",
              "</style>\n",
              "<table border=\"1\" class=\"dataframe\">\n",
              "  <thead>\n",
              "    <tr style=\"text-align: right;\">\n",
              "      <th></th>\n",
              "      <th>age</th>\n",
              "      <th>gender</th>\n",
              "      <th>height</th>\n",
              "      <th>weight</th>\n",
              "      <th>ap_hi</th>\n",
              "      <th>ap_lo</th>\n",
              "      <th>cholesterol</th>\n",
              "      <th>gluc</th>\n",
              "      <th>smoke</th>\n",
              "      <th>alco</th>\n",
              "      <th>active</th>\n",
              "      <th>cardio</th>\n",
              "      <th>chol_1</th>\n",
              "      <th>chol_2</th>\n",
              "      <th>chol_3</th>\n",
              "      <th>gluc_1</th>\n",
              "      <th>gluc_2</th>\n",
              "      <th>gluc_3</th>\n",
              "    </tr>\n",
              "  </thead>\n",
              "  <tbody>\n",
              "    <tr>\n",
              "      <th>0</th>\n",
              "      <td>50</td>\n",
              "      <td>1</td>\n",
              "      <td>168.0</td>\n",
              "      <td>62.0</td>\n",
              "      <td>110.0</td>\n",
              "      <td>80.0</td>\n",
              "      <td>chol_1</td>\n",
              "      <td>gluc_1</td>\n",
              "      <td>0</td>\n",
              "      <td>0</td>\n",
              "      <td>1</td>\n",
              "      <td>0</td>\n",
              "      <td>1</td>\n",
              "      <td>0</td>\n",
              "      <td>0</td>\n",
              "      <td>1</td>\n",
              "      <td>0</td>\n",
              "      <td>0</td>\n",
              "    </tr>\n",
              "    <tr>\n",
              "      <th>1</th>\n",
              "      <td>55</td>\n",
              "      <td>0</td>\n",
              "      <td>156.0</td>\n",
              "      <td>85.0</td>\n",
              "      <td>140.0</td>\n",
              "      <td>90.0</td>\n",
              "      <td>chol_3</td>\n",
              "      <td>gluc_1</td>\n",
              "      <td>0</td>\n",
              "      <td>0</td>\n",
              "      <td>1</td>\n",
              "      <td>1</td>\n",
              "      <td>0</td>\n",
              "      <td>0</td>\n",
              "      <td>1</td>\n",
              "      <td>1</td>\n",
              "      <td>0</td>\n",
              "      <td>0</td>\n",
              "    </tr>\n",
              "    <tr>\n",
              "      <th>2</th>\n",
              "      <td>51</td>\n",
              "      <td>0</td>\n",
              "      <td>165.0</td>\n",
              "      <td>64.0</td>\n",
              "      <td>130.0</td>\n",
              "      <td>70.0</td>\n",
              "      <td>chol_3</td>\n",
              "      <td>gluc_1</td>\n",
              "      <td>0</td>\n",
              "      <td>0</td>\n",
              "      <td>0</td>\n",
              "      <td>1</td>\n",
              "      <td>0</td>\n",
              "      <td>0</td>\n",
              "      <td>1</td>\n",
              "      <td>1</td>\n",
              "      <td>0</td>\n",
              "      <td>0</td>\n",
              "    </tr>\n",
              "    <tr>\n",
              "      <th>3</th>\n",
              "      <td>48</td>\n",
              "      <td>1</td>\n",
              "      <td>169.0</td>\n",
              "      <td>82.0</td>\n",
              "      <td>150.0</td>\n",
              "      <td>100.0</td>\n",
              "      <td>chol_1</td>\n",
              "      <td>gluc_1</td>\n",
              "      <td>0</td>\n",
              "      <td>0</td>\n",
              "      <td>1</td>\n",
              "      <td>1</td>\n",
              "      <td>1</td>\n",
              "      <td>0</td>\n",
              "      <td>0</td>\n",
              "      <td>1</td>\n",
              "      <td>0</td>\n",
              "      <td>0</td>\n",
              "    </tr>\n",
              "    <tr>\n",
              "      <th>5</th>\n",
              "      <td>59</td>\n",
              "      <td>0</td>\n",
              "      <td>151.0</td>\n",
              "      <td>67.0</td>\n",
              "      <td>120.0</td>\n",
              "      <td>80.0</td>\n",
              "      <td>chol_2</td>\n",
              "      <td>gluc_2</td>\n",
              "      <td>0</td>\n",
              "      <td>0</td>\n",
              "      <td>0</td>\n",
              "      <td>0</td>\n",
              "      <td>0</td>\n",
              "      <td>1</td>\n",
              "      <td>0</td>\n",
              "      <td>0</td>\n",
              "      <td>1</td>\n",
              "      <td>0</td>\n",
              "    </tr>\n",
              "    <tr>\n",
              "      <th>...</th>\n",
              "      <td>...</td>\n",
              "      <td>...</td>\n",
              "      <td>...</td>\n",
              "      <td>...</td>\n",
              "      <td>...</td>\n",
              "      <td>...</td>\n",
              "      <td>...</td>\n",
              "      <td>...</td>\n",
              "      <td>...</td>\n",
              "      <td>...</td>\n",
              "      <td>...</td>\n",
              "      <td>...</td>\n",
              "      <td>...</td>\n",
              "      <td>...</td>\n",
              "      <td>...</td>\n",
              "      <td>...</td>\n",
              "      <td>...</td>\n",
              "      <td>...</td>\n",
              "    </tr>\n",
              "    <tr>\n",
              "      <th>69993</th>\n",
              "      <td>53</td>\n",
              "      <td>0</td>\n",
              "      <td>172.0</td>\n",
              "      <td>70.0</td>\n",
              "      <td>130.0</td>\n",
              "      <td>90.0</td>\n",
              "      <td>chol_1</td>\n",
              "      <td>gluc_1</td>\n",
              "      <td>0</td>\n",
              "      <td>0</td>\n",
              "      <td>1</td>\n",
              "      <td>1</td>\n",
              "      <td>1</td>\n",
              "      <td>0</td>\n",
              "      <td>0</td>\n",
              "      <td>1</td>\n",
              "      <td>0</td>\n",
              "      <td>0</td>\n",
              "    </tr>\n",
              "    <tr>\n",
              "      <th>69994</th>\n",
              "      <td>57</td>\n",
              "      <td>0</td>\n",
              "      <td>165.0</td>\n",
              "      <td>80.0</td>\n",
              "      <td>150.0</td>\n",
              "      <td>80.0</td>\n",
              "      <td>chol_1</td>\n",
              "      <td>gluc_1</td>\n",
              "      <td>0</td>\n",
              "      <td>0</td>\n",
              "      <td>1</td>\n",
              "      <td>1</td>\n",
              "      <td>1</td>\n",
              "      <td>0</td>\n",
              "      <td>0</td>\n",
              "      <td>1</td>\n",
              "      <td>0</td>\n",
              "      <td>0</td>\n",
              "    </tr>\n",
              "    <tr>\n",
              "      <th>69995</th>\n",
              "      <td>52</td>\n",
              "      <td>1</td>\n",
              "      <td>168.0</td>\n",
              "      <td>76.0</td>\n",
              "      <td>120.0</td>\n",
              "      <td>80.0</td>\n",
              "      <td>chol_1</td>\n",
              "      <td>gluc_1</td>\n",
              "      <td>1</td>\n",
              "      <td>0</td>\n",
              "      <td>1</td>\n",
              "      <td>0</td>\n",
              "      <td>1</td>\n",
              "      <td>0</td>\n",
              "      <td>0</td>\n",
              "      <td>1</td>\n",
              "      <td>0</td>\n",
              "      <td>0</td>\n",
              "    </tr>\n",
              "    <tr>\n",
              "      <th>69998</th>\n",
              "      <td>61</td>\n",
              "      <td>0</td>\n",
              "      <td>163.0</td>\n",
              "      <td>72.0</td>\n",
              "      <td>135.0</td>\n",
              "      <td>80.0</td>\n",
              "      <td>chol_1</td>\n",
              "      <td>gluc_2</td>\n",
              "      <td>0</td>\n",
              "      <td>0</td>\n",
              "      <td>0</td>\n",
              "      <td>1</td>\n",
              "      <td>1</td>\n",
              "      <td>0</td>\n",
              "      <td>0</td>\n",
              "      <td>0</td>\n",
              "      <td>1</td>\n",
              "      <td>0</td>\n",
              "    </tr>\n",
              "    <tr>\n",
              "      <th>69999</th>\n",
              "      <td>56</td>\n",
              "      <td>0</td>\n",
              "      <td>170.0</td>\n",
              "      <td>72.0</td>\n",
              "      <td>120.0</td>\n",
              "      <td>80.0</td>\n",
              "      <td>chol_2</td>\n",
              "      <td>gluc_1</td>\n",
              "      <td>0</td>\n",
              "      <td>0</td>\n",
              "      <td>1</td>\n",
              "      <td>0</td>\n",
              "      <td>0</td>\n",
              "      <td>1</td>\n",
              "      <td>0</td>\n",
              "      <td>1</td>\n",
              "      <td>0</td>\n",
              "      <td>0</td>\n",
              "    </tr>\n",
              "  </tbody>\n",
              "</table>\n",
              "<p>61774 rows × 18 columns</p>\n",
              "</div>"
            ],
            "text/plain": [
              "       age  gender  height  weight  ...  chol_3  gluc_1 gluc_2 gluc_3\n",
              "0       50       1   168.0    62.0  ...       0       1      0      0\n",
              "1       55       0   156.0    85.0  ...       1       1      0      0\n",
              "2       51       0   165.0    64.0  ...       1       1      0      0\n",
              "3       48       1   169.0    82.0  ...       0       1      0      0\n",
              "5       59       0   151.0    67.0  ...       0       0      1      0\n",
              "...    ...     ...     ...     ...  ...     ...     ...    ...    ...\n",
              "69993   53       0   172.0    70.0  ...       0       1      0      0\n",
              "69994   57       0   165.0    80.0  ...       0       1      0      0\n",
              "69995   52       1   168.0    76.0  ...       0       1      0      0\n",
              "69998   61       0   163.0    72.0  ...       0       0      1      0\n",
              "69999   56       0   170.0    72.0  ...       0       1      0      0\n",
              "\n",
              "[61774 rows x 18 columns]"
            ]
          },
          "metadata": {},
          "execution_count": 36
        }
      ]
    },
    {
      "cell_type": "code",
      "metadata": {
        "id": "VTbREFQoy6KM",
        "colab": {
          "base_uri": "https://localhost:8080/",
          "height": 571
        },
        "outputId": "1ce70759-6970-4e69-9e33-e61be8b0c691"
      },
      "source": [
        "data.corr()"
      ],
      "execution_count": 37,
      "outputs": [
        {
          "output_type": "execute_result",
          "data": {
            "text/html": [
              "<div>\n",
              "<style scoped>\n",
              "    .dataframe tbody tr th:only-of-type {\n",
              "        vertical-align: middle;\n",
              "    }\n",
              "\n",
              "    .dataframe tbody tr th {\n",
              "        vertical-align: top;\n",
              "    }\n",
              "\n",
              "    .dataframe thead th {\n",
              "        text-align: right;\n",
              "    }\n",
              "</style>\n",
              "<table border=\"1\" class=\"dataframe\">\n",
              "  <thead>\n",
              "    <tr style=\"text-align: right;\">\n",
              "      <th></th>\n",
              "      <th>age</th>\n",
              "      <th>gender</th>\n",
              "      <th>height</th>\n",
              "      <th>weight</th>\n",
              "      <th>ap_hi</th>\n",
              "      <th>ap_lo</th>\n",
              "      <th>smoke</th>\n",
              "      <th>alco</th>\n",
              "      <th>active</th>\n",
              "      <th>cardio</th>\n",
              "      <th>chol_1</th>\n",
              "      <th>chol_2</th>\n",
              "      <th>chol_3</th>\n",
              "      <th>gluc_1</th>\n",
              "      <th>gluc_2</th>\n",
              "      <th>gluc_3</th>\n",
              "    </tr>\n",
              "  </thead>\n",
              "  <tbody>\n",
              "    <tr>\n",
              "      <th>age</th>\n",
              "      <td>1.000000</td>\n",
              "      <td>-0.032384</td>\n",
              "      <td>-0.095136</td>\n",
              "      <td>0.054864</td>\n",
              "      <td>0.201860</td>\n",
              "      <td>0.144018</td>\n",
              "      <td>-0.048310</td>\n",
              "      <td>-0.028727</td>\n",
              "      <td>-0.011020</td>\n",
              "      <td>0.234675</td>\n",
              "      <td>-0.128985</td>\n",
              "      <td>0.021939</td>\n",
              "      <td>0.151699</td>\n",
              "      <td>-0.085565</td>\n",
              "      <td>0.023754</td>\n",
              "      <td>0.091313</td>\n",
              "    </tr>\n",
              "    <tr>\n",
              "      <th>gender</th>\n",
              "      <td>-0.032384</td>\n",
              "      <td>1.000000</td>\n",
              "      <td>0.516486</td>\n",
              "      <td>0.157767</td>\n",
              "      <td>0.038874</td>\n",
              "      <td>0.044120</td>\n",
              "      <td>0.336949</td>\n",
              "      <td>0.168135</td>\n",
              "      <td>0.007254</td>\n",
              "      <td>-0.006025</td>\n",
              "      <td>0.042535</td>\n",
              "      <td>-0.020607</td>\n",
              "      <td>-0.035764</td>\n",
              "      <td>0.022462</td>\n",
              "      <td>-0.005981</td>\n",
              "      <td>-0.024218</td>\n",
              "    </tr>\n",
              "    <tr>\n",
              "      <th>height</th>\n",
              "      <td>-0.095136</td>\n",
              "      <td>0.516486</td>\n",
              "      <td>1.000000</td>\n",
              "      <td>0.305845</td>\n",
              "      <td>-0.013329</td>\n",
              "      <td>0.004426</td>\n",
              "      <td>0.191682</td>\n",
              "      <td>0.093786</td>\n",
              "      <td>-0.009240</td>\n",
              "      <td>-0.028703</td>\n",
              "      <td>0.066785</td>\n",
              "      <td>-0.031868</td>\n",
              "      <td>-0.056673</td>\n",
              "      <td>0.030239</td>\n",
              "      <td>-0.019949</td>\n",
              "      <td>-0.021099</td>\n",
              "    </tr>\n",
              "    <tr>\n",
              "      <th>weight</th>\n",
              "      <td>0.054864</td>\n",
              "      <td>0.157767</td>\n",
              "      <td>0.305845</td>\n",
              "      <td>1.000000</td>\n",
              "      <td>0.229290</td>\n",
              "      <td>0.209763</td>\n",
              "      <td>0.064031</td>\n",
              "      <td>0.063671</td>\n",
              "      <td>-0.013099</td>\n",
              "      <td>0.159480</td>\n",
              "      <td>-0.122017</td>\n",
              "      <td>0.063008</td>\n",
              "      <td>0.098440</td>\n",
              "      <td>-0.098162</td>\n",
              "      <td>0.080550</td>\n",
              "      <td>0.053224</td>\n",
              "    </tr>\n",
              "    <tr>\n",
              "      <th>ap_hi</th>\n",
              "      <td>0.201860</td>\n",
              "      <td>0.038874</td>\n",
              "      <td>-0.013329</td>\n",
              "      <td>0.229290</td>\n",
              "      <td>1.000000</td>\n",
              "      <td>0.704027</td>\n",
              "      <td>0.020540</td>\n",
              "      <td>0.026020</td>\n",
              "      <td>0.003349</td>\n",
              "      <td>0.430715</td>\n",
              "      <td>-0.188817</td>\n",
              "      <td>0.099719</td>\n",
              "      <td>0.149970</td>\n",
              "      <td>-0.091604</td>\n",
              "      <td>0.067016</td>\n",
              "      <td>0.057551</td>\n",
              "    </tr>\n",
              "    <tr>\n",
              "      <th>ap_lo</th>\n",
              "      <td>0.144018</td>\n",
              "      <td>0.044120</td>\n",
              "      <td>0.004426</td>\n",
              "      <td>0.209763</td>\n",
              "      <td>0.704027</td>\n",
              "      <td>1.000000</td>\n",
              "      <td>0.019079</td>\n",
              "      <td>0.030530</td>\n",
              "      <td>0.000520</td>\n",
              "      <td>0.331652</td>\n",
              "      <td>-0.151091</td>\n",
              "      <td>0.078563</td>\n",
              "      <td>0.121320</td>\n",
              "      <td>-0.071970</td>\n",
              "      <td>0.057301</td>\n",
              "      <td>0.040721</td>\n",
              "    </tr>\n",
              "    <tr>\n",
              "      <th>smoke</th>\n",
              "      <td>-0.048310</td>\n",
              "      <td>0.336949</td>\n",
              "      <td>0.191682</td>\n",
              "      <td>0.064031</td>\n",
              "      <td>0.020540</td>\n",
              "      <td>0.019079</td>\n",
              "      <td>1.000000</td>\n",
              "      <td>0.342285</td>\n",
              "      <td>0.026972</td>\n",
              "      <td>-0.022579</td>\n",
              "      <td>-0.013180</td>\n",
              "      <td>0.023104</td>\n",
              "      <td>-0.006748</td>\n",
              "      <td>0.003430</td>\n",
              "      <td>0.012692</td>\n",
              "      <td>-0.016853</td>\n",
              "    </tr>\n",
              "    <tr>\n",
              "      <th>alco</th>\n",
              "      <td>-0.028727</td>\n",
              "      <td>0.168135</td>\n",
              "      <td>0.093786</td>\n",
              "      <td>0.063671</td>\n",
              "      <td>0.026020</td>\n",
              "      <td>0.030530</td>\n",
              "      <td>0.342285</td>\n",
              "      <td>1.000000</td>\n",
              "      <td>0.026411</td>\n",
              "      <td>-0.013166</td>\n",
              "      <td>-0.037952</td>\n",
              "      <td>0.038293</td>\n",
              "      <td>0.010681</td>\n",
              "      <td>-0.012886</td>\n",
              "      <td>0.025635</td>\n",
              "      <td>-0.007575</td>\n",
              "    </tr>\n",
              "    <tr>\n",
              "      <th>active</th>\n",
              "      <td>-0.011020</td>\n",
              "      <td>0.007254</td>\n",
              "      <td>-0.009240</td>\n",
              "      <td>-0.013099</td>\n",
              "      <td>0.003349</td>\n",
              "      <td>0.000520</td>\n",
              "      <td>0.026972</td>\n",
              "      <td>0.026411</td>\n",
              "      <td>1.000000</td>\n",
              "      <td>-0.037841</td>\n",
              "      <td>-0.005487</td>\n",
              "      <td>-0.006061</td>\n",
              "      <td>0.013913</td>\n",
              "      <td>0.009234</td>\n",
              "      <td>-0.011020</td>\n",
              "      <td>-0.001679</td>\n",
              "    </tr>\n",
              "    <tr>\n",
              "      <th>cardio</th>\n",
              "      <td>0.234675</td>\n",
              "      <td>-0.006025</td>\n",
              "      <td>-0.028703</td>\n",
              "      <td>0.159480</td>\n",
              "      <td>0.430715</td>\n",
              "      <td>0.331652</td>\n",
              "      <td>-0.022579</td>\n",
              "      <td>-0.013166</td>\n",
              "      <td>-0.037841</td>\n",
              "      <td>1.000000</td>\n",
              "      <td>-0.201848</td>\n",
              "      <td>0.077895</td>\n",
              "      <td>0.190935</td>\n",
              "      <td>-0.086230</td>\n",
              "      <td>0.047287</td>\n",
              "      <td>0.069449</td>\n",
              "    </tr>\n",
              "    <tr>\n",
              "      <th>chol_1</th>\n",
              "      <td>-0.128985</td>\n",
              "      <td>0.042535</td>\n",
              "      <td>0.066785</td>\n",
              "      <td>-0.122017</td>\n",
              "      <td>-0.188817</td>\n",
              "      <td>-0.151091</td>\n",
              "      <td>-0.013180</td>\n",
              "      <td>-0.037952</td>\n",
              "      <td>-0.005487</td>\n",
              "      <td>-0.201848</td>\n",
              "      <td>1.000000</td>\n",
              "      <td>-0.683878</td>\n",
              "      <td>-0.628159</td>\n",
              "      <td>0.381775</td>\n",
              "      <td>-0.202290</td>\n",
              "      <td>-0.314311</td>\n",
              "    </tr>\n",
              "    <tr>\n",
              "      <th>chol_2</th>\n",
              "      <td>0.021939</td>\n",
              "      <td>-0.020607</td>\n",
              "      <td>-0.031868</td>\n",
              "      <td>0.063008</td>\n",
              "      <td>0.099719</td>\n",
              "      <td>0.078563</td>\n",
              "      <td>0.023104</td>\n",
              "      <td>0.038293</td>\n",
              "      <td>-0.006061</td>\n",
              "      <td>0.077895</td>\n",
              "      <td>-0.683878</td>\n",
              "      <td>1.000000</td>\n",
              "      <td>-0.138104</td>\n",
              "      <td>-0.157357</td>\n",
              "      <td>0.271745</td>\n",
              "      <td>-0.052578</td>\n",
              "    </tr>\n",
              "    <tr>\n",
              "      <th>chol_3</th>\n",
              "      <td>0.151699</td>\n",
              "      <td>-0.035764</td>\n",
              "      <td>-0.056673</td>\n",
              "      <td>0.098440</td>\n",
              "      <td>0.149970</td>\n",
              "      <td>0.121320</td>\n",
              "      <td>-0.006748</td>\n",
              "      <td>0.010681</td>\n",
              "      <td>0.013913</td>\n",
              "      <td>0.190935</td>\n",
              "      <td>-0.628159</td>\n",
              "      <td>-0.138104</td>\n",
              "      <td>1.000000</td>\n",
              "      <td>-0.350440</td>\n",
              "      <td>-0.015199</td>\n",
              "      <td>0.482745</td>\n",
              "    </tr>\n",
              "    <tr>\n",
              "      <th>gluc_1</th>\n",
              "      <td>-0.085565</td>\n",
              "      <td>0.022462</td>\n",
              "      <td>0.030239</td>\n",
              "      <td>-0.098162</td>\n",
              "      <td>-0.091604</td>\n",
              "      <td>-0.071970</td>\n",
              "      <td>0.003430</td>\n",
              "      <td>-0.012886</td>\n",
              "      <td>0.009234</td>\n",
              "      <td>-0.086230</td>\n",
              "      <td>0.381775</td>\n",
              "      <td>-0.157357</td>\n",
              "      <td>-0.350440</td>\n",
              "      <td>1.000000</td>\n",
              "      <td>-0.665456</td>\n",
              "      <td>-0.692189</td>\n",
              "    </tr>\n",
              "    <tr>\n",
              "      <th>gluc_2</th>\n",
              "      <td>0.023754</td>\n",
              "      <td>-0.005981</td>\n",
              "      <td>-0.019949</td>\n",
              "      <td>0.080550</td>\n",
              "      <td>0.067016</td>\n",
              "      <td>0.057301</td>\n",
              "      <td>0.012692</td>\n",
              "      <td>0.025635</td>\n",
              "      <td>-0.011020</td>\n",
              "      <td>0.047287</td>\n",
              "      <td>-0.202290</td>\n",
              "      <td>0.271745</td>\n",
              "      <td>-0.015199</td>\n",
              "      <td>-0.665456</td>\n",
              "      <td>1.000000</td>\n",
              "      <td>-0.078094</td>\n",
              "    </tr>\n",
              "    <tr>\n",
              "      <th>gluc_3</th>\n",
              "      <td>0.091313</td>\n",
              "      <td>-0.024218</td>\n",
              "      <td>-0.021099</td>\n",
              "      <td>0.053224</td>\n",
              "      <td>0.057551</td>\n",
              "      <td>0.040721</td>\n",
              "      <td>-0.016853</td>\n",
              "      <td>-0.007575</td>\n",
              "      <td>-0.001679</td>\n",
              "      <td>0.069449</td>\n",
              "      <td>-0.314311</td>\n",
              "      <td>-0.052578</td>\n",
              "      <td>0.482745</td>\n",
              "      <td>-0.692189</td>\n",
              "      <td>-0.078094</td>\n",
              "      <td>1.000000</td>\n",
              "    </tr>\n",
              "  </tbody>\n",
              "</table>\n",
              "</div>"
            ],
            "text/plain": [
              "             age    gender    height  ...    gluc_1    gluc_2    gluc_3\n",
              "age     1.000000 -0.032384 -0.095136  ... -0.085565  0.023754  0.091313\n",
              "gender -0.032384  1.000000  0.516486  ...  0.022462 -0.005981 -0.024218\n",
              "height -0.095136  0.516486  1.000000  ...  0.030239 -0.019949 -0.021099\n",
              "weight  0.054864  0.157767  0.305845  ... -0.098162  0.080550  0.053224\n",
              "ap_hi   0.201860  0.038874 -0.013329  ... -0.091604  0.067016  0.057551\n",
              "ap_lo   0.144018  0.044120  0.004426  ... -0.071970  0.057301  0.040721\n",
              "smoke  -0.048310  0.336949  0.191682  ...  0.003430  0.012692 -0.016853\n",
              "alco   -0.028727  0.168135  0.093786  ... -0.012886  0.025635 -0.007575\n",
              "active -0.011020  0.007254 -0.009240  ...  0.009234 -0.011020 -0.001679\n",
              "cardio  0.234675 -0.006025 -0.028703  ... -0.086230  0.047287  0.069449\n",
              "chol_1 -0.128985  0.042535  0.066785  ...  0.381775 -0.202290 -0.314311\n",
              "chol_2  0.021939 -0.020607 -0.031868  ... -0.157357  0.271745 -0.052578\n",
              "chol_3  0.151699 -0.035764 -0.056673  ... -0.350440 -0.015199  0.482745\n",
              "gluc_1 -0.085565  0.022462  0.030239  ...  1.000000 -0.665456 -0.692189\n",
              "gluc_2  0.023754 -0.005981 -0.019949  ... -0.665456  1.000000 -0.078094\n",
              "gluc_3  0.091313 -0.024218 -0.021099  ... -0.692189 -0.078094  1.000000\n",
              "\n",
              "[16 rows x 16 columns]"
            ]
          },
          "metadata": {},
          "execution_count": 37
        }
      ]
    },
    {
      "cell_type": "code",
      "metadata": {
        "colab": {
          "base_uri": "https://localhost:8080/",
          "height": 722
        },
        "id": "8DlTHlIzy9aj",
        "outputId": "1ffbb5e6-2695-466f-81ad-b27662f514b8"
      },
      "source": [
        "plt.figure(figsize=(15,12))\n",
        "sns.heatmap(data.corr(),annot=True)"
      ],
      "execution_count": 38,
      "outputs": [
        {
          "output_type": "execute_result",
          "data": {
            "text/plain": [
              "<matplotlib.axes._subplots.AxesSubplot at 0x7f42a3dbef10>"
            ]
          },
          "metadata": {},
          "execution_count": 38
        },
        {
          "output_type": "display_data",
          "data": {
            "image/png": "[encoded data removed]",
            "text/plain": [
              "<Figure size 1080x864 with 2 Axes>"
            ]
          },
          "metadata": {
            "needs_background": "light"
          }
        }
      ]
    },
    {
      "cell_type": "markdown",
      "metadata": {
        "id": "DJYSEU26FyrR"
      },
      "source": [
        "After the preprocessing, we can clearly see which feature contributes directly and indirectly to the output variable.\n",
        "\n",
        "1.   Age, weight and level 3 cholesterol contribute **positively** to the output.\n",
        "2.   Systolic BP and Diastolic BP contribute **very positively** to the output.\n",
        "3.   Level 1 cholesterol contribute **negatively** to the output.\n",
        "\n",
        "Rest of the features do not have much effect on the output.\n",
        "\n",
        "We can also note that each level of cholestrol is highly correlated to the corresponding same level of glucose. This means that if a person has level 3 cholestrol, the chance of hiim/her having level 3 glucose is high.\n",
        "A similar case can be seen in systolic and diastolic BP which have a very high value of correlation.\n",
        "\n",
        "Weight is also correlated to systolic and diastolic BP. Thus, if a person's weight increases his/her BP will also increase."
      ]
    },
    {
      "cell_type": "code",
      "metadata": {
        "id": "csDozOGULHUa"
      },
      "source": [
        "data.drop(['cholesterol','gluc','chol_1','gluc_1'],axis=1,inplace=True)"
      ],
      "execution_count": 39,
      "outputs": []
    },
    {
      "cell_type": "code",
      "metadata": {
        "colab": {
          "base_uri": "https://localhost:8080/",
          "height": 424
        },
        "id": "ON51yVYiPU4K",
        "outputId": "396694e7-9795-4ef3-ac80-8f6079f730a5"
      },
      "source": [
        "data"
      ],
      "execution_count": 40,
      "outputs": [
        {
          "output_type": "execute_result",
          "data": {
            "text/html": [
              "<div>\n",
              "<style scoped>\n",
              "    .dataframe tbody tr th:only-of-type {\n",
              "        vertical-align: middle;\n",
              "    }\n",
              "\n",
              "    .dataframe tbody tr th {\n",
              "        vertical-align: top;\n",
              "    }\n",
              "\n",
              "    .dataframe thead th {\n",
              "        text-align: right;\n",
              "    }\n",
              "</style>\n",
              "<table border=\"1\" class=\"dataframe\">\n",
              "  <thead>\n",
              "    <tr style=\"text-align: right;\">\n",
              "      <th></th>\n",
              "      <th>age</th>\n",
              "      <th>gender</th>\n",
              "      <th>height</th>\n",
              "      <th>weight</th>\n",
              "      <th>ap_hi</th>\n",
              "      <th>ap_lo</th>\n",
              "      <th>smoke</th>\n",
              "      <th>alco</th>\n",
              "      <th>active</th>\n",
              "      <th>cardio</th>\n",
              "      <th>chol_2</th>\n",
              "      <th>chol_3</th>\n",
              "      <th>gluc_2</th>\n",
              "      <th>gluc_3</th>\n",
              "    </tr>\n",
              "  </thead>\n",
              "  <tbody>\n",
              "    <tr>\n",
              "      <th>0</th>\n",
              "      <td>50</td>\n",
              "      <td>1</td>\n",
              "      <td>168.0</td>\n",
              "      <td>62.0</td>\n",
              "      <td>110.0</td>\n",
              "      <td>80.0</td>\n",
              "      <td>0</td>\n",
              "      <td>0</td>\n",
              "      <td>1</td>\n",
              "      <td>0</td>\n",
              "      <td>0</td>\n",
              "      <td>0</td>\n",
              "      <td>0</td>\n",
              "      <td>0</td>\n",
              "    </tr>\n",
              "    <tr>\n",
              "      <th>1</th>\n",
              "      <td>55</td>\n",
              "      <td>0</td>\n",
              "      <td>156.0</td>\n",
              "      <td>85.0</td>\n",
              "      <td>140.0</td>\n",
              "      <td>90.0</td>\n",
              "      <td>0</td>\n",
              "      <td>0</td>\n",
              "      <td>1</td>\n",
              "      <td>1</td>\n",
              "      <td>0</td>\n",
              "      <td>1</td>\n",
              "      <td>0</td>\n",
              "      <td>0</td>\n",
              "    </tr>\n",
              "    <tr>\n",
              "      <th>2</th>\n",
              "      <td>51</td>\n",
              "      <td>0</td>\n",
              "      <td>165.0</td>\n",
              "      <td>64.0</td>\n",
              "      <td>130.0</td>\n",
              "      <td>70.0</td>\n",
              "      <td>0</td>\n",
              "      <td>0</td>\n",
              "      <td>0</td>\n",
              "      <td>1</td>\n",
              "      <td>0</td>\n",
              "      <td>1</td>\n",
              "      <td>0</td>\n",
              "      <td>0</td>\n",
              "    </tr>\n",
              "    <tr>\n",
              "      <th>3</th>\n",
              "      <td>48</td>\n",
              "      <td>1</td>\n",
              "      <td>169.0</td>\n",
              "      <td>82.0</td>\n",
              "      <td>150.0</td>\n",
              "      <td>100.0</td>\n",
              "      <td>0</td>\n",
              "      <td>0</td>\n",
              "      <td>1</td>\n",
              "      <td>1</td>\n",
              "      <td>0</td>\n",
              "      <td>0</td>\n",
              "      <td>0</td>\n",
              "      <td>0</td>\n",
              "    </tr>\n",
              "    <tr>\n",
              "      <th>5</th>\n",
              "      <td>59</td>\n",
              "      <td>0</td>\n",
              "      <td>151.0</td>\n",
              "      <td>67.0</td>\n",
              "      <td>120.0</td>\n",
              "      <td>80.0</td>\n",
              "      <td>0</td>\n",
              "      <td>0</td>\n",
              "      <td>0</td>\n",
              "      <td>0</td>\n",
              "      <td>1</td>\n",
              "      <td>0</td>\n",
              "      <td>1</td>\n",
              "      <td>0</td>\n",
              "    </tr>\n",
              "    <tr>\n",
              "      <th>...</th>\n",
              "      <td>...</td>\n",
              "      <td>...</td>\n",
              "      <td>...</td>\n",
              "      <td>...</td>\n",
              "      <td>...</td>\n",
              "      <td>...</td>\n",
              "      <td>...</td>\n",
              "      <td>...</td>\n",
              "      <td>...</td>\n",
              "      <td>...</td>\n",
              "      <td>...</td>\n",
              "      <td>...</td>\n",
              "      <td>...</td>\n",
              "      <td>...</td>\n",
              "    </tr>\n",
              "    <tr>\n",
              "      <th>69993</th>\n",
              "      <td>53</td>\n",
              "      <td>0</td>\n",
              "      <td>172.0</td>\n",
              "      <td>70.0</td>\n",
              "      <td>130.0</td>\n",
              "      <td>90.0</td>\n",
              "      <td>0</td>\n",
              "      <td>0</td>\n",
              "      <td>1</td>\n",
              "      <td>1</td>\n",
              "      <td>0</td>\n",
              "      <td>0</td>\n",
              "      <td>0</td>\n",
              "      <td>0</td>\n",
              "    </tr>\n",
              "    <tr>\n",
              "      <th>69994</th>\n",
              "      <td>57</td>\n",
              "      <td>0</td>\n",
              "      <td>165.0</td>\n",
              "      <td>80.0</td>\n",
              "      <td>150.0</td>\n",
              "      <td>80.0</td>\n",
              "      <td>0</td>\n",
              "      <td>0</td>\n",
              "      <td>1</td>\n",
              "      <td>1</td>\n",
              "      <td>0</td>\n",
              "      <td>0</td>\n",
              "      <td>0</td>\n",
              "      <td>0</td>\n",
              "    </tr>\n",
              "    <tr>\n",
              "      <th>69995</th>\n",
              "      <td>52</td>\n",
              "      <td>1</td>\n",
              "      <td>168.0</td>\n",
              "      <td>76.0</td>\n",
              "      <td>120.0</td>\n",
              "      <td>80.0</td>\n",
              "      <td>1</td>\n",
              "      <td>0</td>\n",
              "      <td>1</td>\n",
              "      <td>0</td>\n",
              "      <td>0</td>\n",
              "      <td>0</td>\n",
              "      <td>0</td>\n",
              "      <td>0</td>\n",
              "    </tr>\n",
              "    <tr>\n",
              "      <th>69998</th>\n",
              "      <td>61</td>\n",
              "      <td>0</td>\n",
              "      <td>163.0</td>\n",
              "      <td>72.0</td>\n",
              "      <td>135.0</td>\n",
              "      <td>80.0</td>\n",
              "      <td>0</td>\n",
              "      <td>0</td>\n",
              "      <td>0</td>\n",
              "      <td>1</td>\n",
              "      <td>0</td>\n",
              "      <td>0</td>\n",
              "      <td>1</td>\n",
              "      <td>0</td>\n",
              "    </tr>\n",
              "    <tr>\n",
              "      <th>69999</th>\n",
              "      <td>56</td>\n",
              "      <td>0</td>\n",
              "      <td>170.0</td>\n",
              "      <td>72.0</td>\n",
              "      <td>120.0</td>\n",
              "      <td>80.0</td>\n",
              "      <td>0</td>\n",
              "      <td>0</td>\n",
              "      <td>1</td>\n",
              "      <td>0</td>\n",
              "      <td>1</td>\n",
              "      <td>0</td>\n",
              "      <td>0</td>\n",
              "      <td>0</td>\n",
              "    </tr>\n",
              "  </tbody>\n",
              "</table>\n",
              "<p>61774 rows × 14 columns</p>\n",
              "</div>"
            ],
            "text/plain": [
              "       age  gender  height  weight  ...  chol_2  chol_3  gluc_2  gluc_3\n",
              "0       50       1   168.0    62.0  ...       0       0       0       0\n",
              "1       55       0   156.0    85.0  ...       0       1       0       0\n",
              "2       51       0   165.0    64.0  ...       0       1       0       0\n",
              "3       48       1   169.0    82.0  ...       0       0       0       0\n",
              "5       59       0   151.0    67.0  ...       1       0       1       0\n",
              "...    ...     ...     ...     ...  ...     ...     ...     ...     ...\n",
              "69993   53       0   172.0    70.0  ...       0       0       0       0\n",
              "69994   57       0   165.0    80.0  ...       0       0       0       0\n",
              "69995   52       1   168.0    76.0  ...       0       0       0       0\n",
              "69998   61       0   163.0    72.0  ...       0       0       1       0\n",
              "69999   56       0   170.0    72.0  ...       1       0       0       0\n",
              "\n",
              "[61774 rows x 14 columns]"
            ]
          },
          "metadata": {},
          "execution_count": 40
        }
      ]
    },
    {
      "cell_type": "code",
      "metadata": {
        "id": "9MXi_pjC2Evi"
      },
      "source": [
        "X = data.drop(['cardio'],axis=1)\n",
        "y = data['cardio']"
      ],
      "execution_count": 41,
      "outputs": []
    },
    {
      "cell_type": "code",
      "metadata": {
        "colab": {
          "base_uri": "https://localhost:8080/"
        },
        "id": "zIl9iu8l3Hs_",
        "outputId": "d1993f98-2fbd-4977-f00c-aff7c0cbc151"
      },
      "source": [
        "X.shape"
      ],
      "execution_count": 42,
      "outputs": [
        {
          "output_type": "execute_result",
          "data": {
            "text/plain": [
              "(61774, 13)"
            ]
          },
          "metadata": {},
          "execution_count": 42
        }
      ]
    },
    {
      "cell_type": "code",
      "metadata": {
        "colab": {
          "base_uri": "https://localhost:8080/"
        },
        "id": "28hSYzLA3SSR",
        "outputId": "d8681de7-8656-47ca-ff80-73ae10115cf6"
      },
      "source": [
        "y.shape"
      ],
      "execution_count": 43,
      "outputs": [
        {
          "output_type": "execute_result",
          "data": {
            "text/plain": [
              "(61774,)"
            ]
          },
          "metadata": {},
          "execution_count": 43
        }
      ]
    },
    {
      "cell_type": "code",
      "metadata": {
        "id": "rjZ4xYpBz_39"
      },
      "source": [
        "from sklearn.model_selection import train_test_split\n",
        "X_train, X_test, y_train, y_test = train_test_split(X,y,test_size=0.2,random_state=0)"
      ],
      "execution_count": 44,
      "outputs": []
    },
    {
      "cell_type": "code",
      "metadata": {
        "id": "hLtti9lG49m1"
      },
      "source": [
        "from sklearn.preprocessing import StandardScaler"
      ],
      "execution_count": 45,
      "outputs": []
    },
    {
      "cell_type": "code",
      "metadata": {
        "id": "cjeWdcUN5bj0"
      },
      "source": [
        "sc_X = StandardScaler()\n",
        "X_train = sc_X.fit_transform(X_train)\n",
        "X_test = sc_X.transform(X_test)"
      ],
      "execution_count": 46,
      "outputs": []
    },
    {
      "cell_type": "markdown",
      "metadata": {
        "id": "f7z9gPVt52eB"
      },
      "source": [
        "##**MODEL TRAINING AND TESTING**\n",
        "\n"
      ]
    },
    {
      "cell_type": "markdown",
      "metadata": {
        "id": "Joucfd5tehrN"
      },
      "source": [
        "We are going to train and test our data on 5 model and compare the results:\n",
        "\n",
        "\n",
        "1.   Logistic Regression Classifier\n",
        "2.   Random Forest Classifier\n",
        "3.   Support Vector Machine\n",
        "4.   XGBoost\n",
        "5.   K Nearest Neighbors\n"
      ]
    },
    {
      "cell_type": "code",
      "metadata": {
        "id": "LHNY9EuXYauJ"
      },
      "source": [
        "from sklearn.metrics import confusion_matrix, plot_roc_curve, classification_report\n",
        "#from sklearn.model_selection import GridSearchCV, RandomizedSearchCV"
      ],
      "execution_count": 47,
      "outputs": []
    },
    {
      "cell_type": "markdown",
      "metadata": {
        "id": "_7YzT1rs5Sbw"
      },
      "source": [
        "####*1. LOGISTIC REGRESSION CLASSIFIER*"
      ]
    },
    {
      "cell_type": "code",
      "metadata": {
        "colab": {
          "base_uri": "https://localhost:8080/"
        },
        "id": "jDNFCig75qIC",
        "outputId": "4e7f8aff-b729-41bb-baf9-9a9ac9501f5a"
      },
      "source": [
        "from sklearn.linear_model import LogisticRegression\n",
        "classifier_lr = LogisticRegression()\n",
        "classifier_lr.fit(X_train,y_train)"
      ],
      "execution_count": 48,
      "outputs": [
        {
          "output_type": "execute_result",
          "data": {
            "text/plain": [
              "LogisticRegression()"
            ]
          },
          "metadata": {},
          "execution_count": 48
        }
      ]
    },
    {
      "cell_type": "code",
      "metadata": {
        "id": "JN69VSa55_X9"
      },
      "source": [
        "y_pred = classifier_lr.predict(X_test)"
      ],
      "execution_count": 49,
      "outputs": []
    },
    {
      "cell_type": "code",
      "metadata": {
        "id": "L1lQleqx6Lec"
      },
      "source": [
        "cm = confusion_matrix(y_test,y_pred)"
      ],
      "execution_count": 50,
      "outputs": []
    },
    {
      "cell_type": "code",
      "metadata": {
        "colab": {
          "base_uri": "https://localhost:8080/",
          "height": 282
        },
        "id": "1GGHq4O76TwK",
        "outputId": "d288d23a-6f62-485a-c647-8454487e8752"
      },
      "source": [
        "sns.heatmap(cm,annot=True,fmt='0g')"
      ],
      "execution_count": 51,
      "outputs": [
        {
          "output_type": "execute_result",
          "data": {
            "text/plain": [
              "<matplotlib.axes._subplots.AxesSubplot at 0x7f42a08ec4d0>"
            ]
          },
          "metadata": {},
          "execution_count": 51
        },
        {
          "output_type": "display_data",
          "data": {
            "image/png": "[encoded data removed]",
            "text/plain": [
              "<Figure size 432x288 with 2 Axes>"
            ]
          },
          "metadata": {
            "needs_background": "light"
          }
        }
      ]
    },
    {
      "cell_type": "markdown",
      "metadata": {
        "id": "7Pm56Z4J_CKS"
      },
      "source": [
        "Accuracy = 72.22%"
      ]
    },
    {
      "cell_type": "code",
      "metadata": {
        "colab": {
          "base_uri": "https://localhost:8080/",
          "height": 296
        },
        "id": "ABHME282tYyj",
        "outputId": "3021a431-ea57-432b-972f-34b22f6a72ce"
      },
      "source": [
        "plot_roc_curve(classifier_lr, X_test, y_test)"
      ],
      "execution_count": 52,
      "outputs": [
        {
          "output_type": "execute_result",
          "data": {
            "text/plain": [
              "<sklearn.metrics._plot.roc_curve.RocCurveDisplay at 0x7f42a1216810>"
            ]
          },
          "metadata": {},
          "execution_count": 52
        },
        {
          "output_type": "display_data",
          "data": {
            "image/png": "[encoded data removed]",
            "text/plain": [
              "<Figure size 432x288 with 1 Axes>"
            ]
          },
          "metadata": {
            "needs_background": "light"
          }
        }
      ]
    },
    {
      "cell_type": "code",
      "metadata": {
        "colab": {
          "base_uri": "https://localhost:8080/"
        },
        "id": "TmD-Ayp2yvSE",
        "outputId": "cf75a208-fce4-4b33-cf06-15f14b189a01"
      },
      "source": [
        "print(classification_report(y_test, y_pred))"
      ],
      "execution_count": 53,
      "outputs": [
        {
          "output_type": "stream",
          "name": "stdout",
          "text": [
            "              precision    recall  f1-score   support\n",
            "\n",
            "           0       0.70      0.78      0.74      6272\n",
            "           1       0.75      0.66      0.70      6083\n",
            "\n",
            "    accuracy                           0.72     12355\n",
            "   macro avg       0.73      0.72      0.72     12355\n",
            "weighted avg       0.73      0.72      0.72     12355\n",
            "\n"
          ]
        }
      ]
    },
    {
      "cell_type": "markdown",
      "metadata": {
        "id": "-NnVShTjgsDD"
      },
      "source": [
        "#### *2. RANDOM FOREST CLASSIFIER*"
      ]
    },
    {
      "cell_type": "code",
      "metadata": {
        "colab": {
          "base_uri": "https://localhost:8080/"
        },
        "id": "enKAgcuL6ikT",
        "outputId": "aa73f7b4-fd3a-4eeb-fefc-d3963872d926"
      },
      "source": [
        "from sklearn.ensemble import RandomForestClassifier\n",
        "classifier_rf = RandomForestClassifier()\n",
        "classifier_rf.fit(X_train,y_train)"
      ],
      "execution_count": 54,
      "outputs": [
        {
          "output_type": "execute_result",
          "data": {
            "text/plain": [
              "RandomForestClassifier()"
            ]
          },
          "metadata": {},
          "execution_count": 54
        }
      ]
    },
    {
      "cell_type": "code",
      "metadata": {
        "id": "WvQ1lQws7zBf"
      },
      "source": [
        "y_pred = classifier_rf.predict(X_test)"
      ],
      "execution_count": 55,
      "outputs": []
    },
    {
      "cell_type": "code",
      "metadata": {
        "id": "gTvW9a6H8JL_"
      },
      "source": [
        "cm = confusion_matrix(y_test,y_pred)"
      ],
      "execution_count": 56,
      "outputs": []
    },
    {
      "cell_type": "code",
      "metadata": {
        "colab": {
          "base_uri": "https://localhost:8080/",
          "height": 282
        },
        "id": "FGXTjIuR8pls",
        "outputId": "53ae65f0-705a-4f99-876b-f90bb4783a95"
      },
      "source": [
        "sns.heatmap(cm,annot=True,fmt='0g')"
      ],
      "execution_count": 57,
      "outputs": [
        {
          "output_type": "execute_result",
          "data": {
            "text/plain": [
              "<matplotlib.axes._subplots.AxesSubplot at 0x7f429d05a550>"
            ]
          },
          "metadata": {},
          "execution_count": 57
        },
        {
          "output_type": "display_data",
          "data": {
            "image/png": "[encoded data removed]",
            "text/plain": [
              "<Figure size 432x288 with 2 Axes>"
            ]
          },
          "metadata": {
            "needs_background": "light"
          }
        }
      ]
    },
    {
      "cell_type": "markdown",
      "metadata": {
        "id": "yffXawKp_N0j"
      },
      "source": [
        "Accuracy = 69.44%"
      ]
    },
    {
      "cell_type": "code",
      "metadata": {
        "colab": {
          "base_uri": "https://localhost:8080/",
          "height": 296
        },
        "id": "vDBJYUqZtkm5",
        "outputId": "4ee56cc3-6d32-4a5c-9623-d2a74efab0ef"
      },
      "source": [
        "plot_roc_curve(classifier_rf, X_test, y_test)"
      ],
      "execution_count": 58,
      "outputs": [
        {
          "output_type": "execute_result",
          "data": {
            "text/plain": [
              "<sklearn.metrics._plot.roc_curve.RocCurveDisplay at 0x7f429d05a590>"
            ]
          },
          "metadata": {},
          "execution_count": 58
        },
        {
          "output_type": "display_data",
          "data": {
            "image/png": "[encoded data removed]",
            "text/plain": [
              "<Figure size 432x288 with 1 Axes>"
            ]
          },
          "metadata": {
            "needs_background": "light"
          }
        }
      ]
    },
    {
      "cell_type": "code",
      "metadata": {
        "colab": {
          "base_uri": "https://localhost:8080/"
        },
        "id": "b3Ymkw9hy7se",
        "outputId": "c920fa0e-68ce-4764-db13-328bad400a88"
      },
      "source": [
        "print(classification_report(y_test, y_pred))"
      ],
      "execution_count": 59,
      "outputs": [
        {
          "output_type": "stream",
          "name": "stdout",
          "text": [
            "              precision    recall  f1-score   support\n",
            "\n",
            "           0       0.70      0.70      0.70      6272\n",
            "           1       0.69      0.70      0.69      6083\n",
            "\n",
            "    accuracy                           0.70     12355\n",
            "   macro avg       0.70      0.70      0.70     12355\n",
            "weighted avg       0.70      0.70      0.70     12355\n",
            "\n"
          ]
        }
      ]
    },
    {
      "cell_type": "markdown",
      "metadata": {
        "id": "FcKR-EoV8R52"
      },
      "source": [
        "####*3. SVM CLASSIFIER*"
      ]
    },
    {
      "cell_type": "code",
      "metadata": {
        "id": "m-eLFffs8Xmn",
        "colab": {
          "base_uri": "https://localhost:8080/"
        },
        "outputId": "0006250a-a895-4680-c335-30e8944b2261"
      },
      "source": [
        "from sklearn.svm import SVC\n",
        "classifier_svm = SVC()\n",
        "classifier_svm.fit(X_train, y_train)"
      ],
      "execution_count": 60,
      "outputs": [
        {
          "output_type": "execute_result",
          "data": {
            "text/plain": [
              "SVC()"
            ]
          },
          "metadata": {},
          "execution_count": 60
        }
      ]
    },
    {
      "cell_type": "code",
      "metadata": {
        "id": "zYugTu-macIv"
      },
      "source": [
        "y_pred = classifier_svm.predict(X_test)"
      ],
      "execution_count": 61,
      "outputs": []
    },
    {
      "cell_type": "code",
      "metadata": {
        "id": "Q5HQrT2RapLi",
        "colab": {
          "base_uri": "https://localhost:8080/",
          "height": 286
        },
        "outputId": "2eb41253-d16f-4ab5-e088-eeff8e89bac8"
      },
      "source": [
        "cm = confusion_matrix(y_test,y_pred)\n",
        "sns.heatmap(cm,annot=True,fmt='0g')"
      ],
      "execution_count": 62,
      "outputs": [
        {
          "output_type": "execute_result",
          "data": {
            "text/plain": [
              "<matplotlib.axes._subplots.AxesSubplot at 0x7f429cf76b50>"
            ]
          },
          "metadata": {},
          "execution_count": 62
        },
        {
          "output_type": "display_data",
          "data": {
            "image/png": "[encoded data removed]",
            "text/plain": [
              "<Figure size 432x288 with 2 Axes>"
            ]
          },
          "metadata": {
            "needs_background": "light"
          }
        }
      ]
    },
    {
      "cell_type": "markdown",
      "metadata": {
        "id": "8OvGpMHf1y3n"
      },
      "source": [
        "Accuracy = 72.68%"
      ]
    },
    {
      "cell_type": "code",
      "metadata": {
        "colab": {
          "base_uri": "https://localhost:8080/",
          "height": 296
        },
        "id": "m5CedgLVtveX",
        "outputId": "f7a542d5-11ac-45e2-e7d1-c42a0511183b"
      },
      "source": [
        "plot_roc_curve(classifier_svm, X_test, y_test)"
      ],
      "execution_count": 63,
      "outputs": [
        {
          "output_type": "execute_result",
          "data": {
            "text/plain": [
              "<sklearn.metrics._plot.roc_curve.RocCurveDisplay at 0x7f429cf49550>"
            ]
          },
          "metadata": {},
          "execution_count": 63
        },
        {
          "output_type": "display_data",
          "data": {
            "image/png": "[encoded data removed]",
            "text/plain": [
              "<Figure size 432x288 with 1 Axes>"
            ]
          },
          "metadata": {
            "needs_background": "light"
          }
        }
      ]
    },
    {
      "cell_type": "code",
      "metadata": {
        "colab": {
          "base_uri": "https://localhost:8080/"
        },
        "id": "OHXs5kaczGQh",
        "outputId": "9bea11e4-f6de-4e74-82f1-0cfa633c5271"
      },
      "source": [
        "print(classification_report(y_test, y_pred))"
      ],
      "execution_count": 64,
      "outputs": [
        {
          "output_type": "stream",
          "name": "stdout",
          "text": [
            "              precision    recall  f1-score   support\n",
            "\n",
            "           0       0.70      0.80      0.75      6272\n",
            "           1       0.76      0.65      0.70      6083\n",
            "\n",
            "    accuracy                           0.73     12355\n",
            "   macro avg       0.73      0.73      0.73     12355\n",
            "weighted avg       0.73      0.73      0.73     12355\n",
            "\n"
          ]
        }
      ]
    },
    {
      "cell_type": "markdown",
      "metadata": {
        "id": "aUf0BlJzEfsa"
      },
      "source": [
        "####*4. XGBOOST CLASSIFIER*"
      ]
    },
    {
      "cell_type": "code",
      "metadata": {
        "id": "A-C0q0aHEwqo",
        "colab": {
          "base_uri": "https://localhost:8080/"
        },
        "outputId": "0f192ed6-2236-401d-e605-b8be202ab8e7"
      },
      "source": [
        "from xgboost import XGBClassifier\n",
        "classifier_xgb = XGBClassifier()\n",
        "classifier_xgb.fit(X_train, y_train)"
      ],
      "execution_count": 65,
      "outputs": [
        {
          "output_type": "execute_result",
          "data": {
            "text/plain": [
              "XGBClassifier()"
            ]
          },
          "metadata": {},
          "execution_count": 65
        }
      ]
    },
    {
      "cell_type": "code",
      "metadata": {
        "id": "ON1uGIju06xK"
      },
      "source": [
        "y_pred = classifier_xgb.predict(X_test)"
      ],
      "execution_count": 66,
      "outputs": []
    },
    {
      "cell_type": "code",
      "metadata": {
        "colab": {
          "base_uri": "https://localhost:8080/",
          "height": 282
        },
        "id": "vmflKW3N07LT",
        "outputId": "fda532c3-880f-49e9-a0b4-77f914676bd5"
      },
      "source": [
        "cm = confusion_matrix(y_test,y_pred)\n",
        "sns.heatmap(cm,annot=True,fmt='0g')"
      ],
      "execution_count": 67,
      "outputs": [
        {
          "output_type": "execute_result",
          "data": {
            "text/plain": [
              "<matplotlib.axes._subplots.AxesSubplot at 0x7f4294093510>"
            ]
          },
          "metadata": {},
          "execution_count": 67
        },
        {
          "output_type": "display_data",
          "data": {
            "image/png": "[encoded data removed]",
            "text/plain": [
              "<Figure size 432x288 with 2 Axes>"
            ]
          },
          "metadata": {
            "needs_background": "light"
          }
        }
      ]
    },
    {
      "cell_type": "markdown",
      "metadata": {
        "id": "R-JIhGwL1p69"
      },
      "source": [
        "Accuracy = 72.75%"
      ]
    },
    {
      "cell_type": "code",
      "metadata": {
        "colab": {
          "base_uri": "https://localhost:8080/",
          "height": 296
        },
        "id": "p14ZRJ0ruAe2",
        "outputId": "d476d991-1c5e-4a4b-d655-6197cb399d2e"
      },
      "source": [
        "plot_roc_curve(classifier_xgb, X_test, y_test)"
      ],
      "execution_count": 68,
      "outputs": [
        {
          "output_type": "execute_result",
          "data": {
            "text/plain": [
              "<sklearn.metrics._plot.roc_curve.RocCurveDisplay at 0x7f429ce81410>"
            ]
          },
          "metadata": {},
          "execution_count": 68
        },
        {
          "output_type": "display_data",
          "data": {
            "image/png": "[encoded data removed]",
            "text/plain": [
              "<Figure size 432x288 with 1 Axes>"
            ]
          },
          "metadata": {
            "needs_background": "light"
          }
        }
      ]
    },
    {
      "cell_type": "code",
      "metadata": {
        "colab": {
          "base_uri": "https://localhost:8080/"
        },
        "id": "9v2QbJlVzVMm",
        "outputId": "2085997e-0b5a-4081-c6c7-c3f969c5fbdf"
      },
      "source": [
        "print(classification_report(y_test, y_pred))"
      ],
      "execution_count": 69,
      "outputs": [
        {
          "output_type": "stream",
          "name": "stdout",
          "text": [
            "              precision    recall  f1-score   support\n",
            "\n",
            "           0       0.72      0.77      0.74      6272\n",
            "           1       0.74      0.68      0.71      6083\n",
            "\n",
            "    accuracy                           0.73     12355\n",
            "   macro avg       0.73      0.73      0.73     12355\n",
            "weighted avg       0.73      0.73      0.73     12355\n",
            "\n"
          ]
        }
      ]
    },
    {
      "cell_type": "markdown",
      "metadata": {
        "id": "dlaffytqVvD9"
      },
      "source": [
        "####*5. KNN CLASSIFIER*"
      ]
    },
    {
      "cell_type": "code",
      "metadata": {
        "id": "WhtUsAboV3WG",
        "colab": {
          "base_uri": "https://localhost:8080/"
        },
        "outputId": "3a6eb7f8-29fe-4da1-e67e-d4af3ed67881"
      },
      "source": [
        "from sklearn.neighbors import KNeighborsClassifier\n",
        "classifier_knn = KNeighborsClassifier()\n",
        "classifier_knn.fit(X_train, y_train)"
      ],
      "execution_count": 70,
      "outputs": [
        {
          "output_type": "execute_result",
          "data": {
            "text/plain": [
              "KNeighborsClassifier()"
            ]
          },
          "metadata": {},
          "execution_count": 70
        }
      ]
    },
    {
      "cell_type": "code",
      "metadata": {
        "id": "hA4vqGbr0_NC"
      },
      "source": [
        "y_pred = classifier_knn.predict(X_test)"
      ],
      "execution_count": 71,
      "outputs": []
    },
    {
      "cell_type": "code",
      "metadata": {
        "colab": {
          "base_uri": "https://localhost:8080/",
          "height": 282
        },
        "id": "yta_vWdB1BGP",
        "outputId": "8cd61752-ed0f-4a47-a897-45f3ed35e67c"
      },
      "source": [
        "cm = confusion_matrix(y_test,y_pred)\n",
        "sns.heatmap(cm,annot=True,fmt='0g')"
      ],
      "execution_count": 72,
      "outputs": [
        {
          "output_type": "execute_result",
          "data": {
            "text/plain": [
              "<matplotlib.axes._subplots.AxesSubplot at 0x7f4293f38650>"
            ]
          },
          "metadata": {},
          "execution_count": 72
        },
        {
          "output_type": "display_data",
          "data": {
            "image/png": "[encoded data removed]",
            "text/plain": [
              "<Figure size 432x288 with 2 Axes>"
            ]
          },
          "metadata": {
            "needs_background": "light"
          }
        }
      ]
    },
    {
      "cell_type": "markdown",
      "metadata": {
        "id": "xSEizslo2LVZ"
      },
      "source": [
        "Accuracy = 68.60%"
      ]
    },
    {
      "cell_type": "code",
      "metadata": {
        "colab": {
          "base_uri": "https://localhost:8080/",
          "height": 296
        },
        "id": "dg49GCLvuErl",
        "outputId": "60518c94-bfce-4d43-9af1-aa1208d2118d"
      },
      "source": [
        "plot_roc_curve(classifier_knn, X_test, y_test)"
      ],
      "execution_count": 73,
      "outputs": [
        {
          "output_type": "execute_result",
          "data": {
            "text/plain": [
              "<sklearn.metrics._plot.roc_curve.RocCurveDisplay at 0x7f4293ebd650>"
            ]
          },
          "metadata": {},
          "execution_count": 73
        },
        {
          "output_type": "display_data",
          "data": {
            "image/png": "[encoded data removed]",
            "text/plain": [
              "<Figure size 432x288 with 1 Axes>"
            ]
          },
          "metadata": {
            "needs_background": "light"
          }
        }
      ]
    },
    {
      "cell_type": "code",
      "metadata": {
        "colab": {
          "base_uri": "https://localhost:8080/"
        },
        "id": "udrAsyA_zZNb",
        "outputId": "e836f046-0412-45c1-d638-efc68c949064"
      },
      "source": [
        "print(classification_report(y_test, y_pred))"
      ],
      "execution_count": 74,
      "outputs": [
        {
          "output_type": "stream",
          "name": "stdout",
          "text": [
            "              precision    recall  f1-score   support\n",
            "\n",
            "           0       0.69      0.70      0.70      6272\n",
            "           1       0.69      0.67      0.68      6083\n",
            "\n",
            "    accuracy                           0.69     12355\n",
            "   macro avg       0.69      0.69      0.69     12355\n",
            "weighted avg       0.69      0.69      0.69     12355\n",
            "\n"
          ]
        }
      ]
    },
    {
      "cell_type": "markdown",
      "metadata": {
        "id": "SM9A9l9ju2J-"
      },
      "source": [
        "**In medical classification, our main aim should be to reduce the number of false negative (recall should be high) because we do not want our model to predict a person who is having the disease (class 1) as no having the disease (class 0).**\n",
        "\n",
        "The **XGBoost** model outperforms all the other models in terms of accuracy as well as class 1 recall. Thus, we will use XGBoost model for deployment."
      ]
    },
    {
      "cell_type": "markdown",
      "metadata": {
        "id": "q303Qh0zoWxs"
      },
      "source": [
        "*SAVING THE BEST MODEL*"
      ]
    },
    {
      "cell_type": "code",
      "metadata": {
        "id": "kC9KUClOoHnJ"
      },
      "source": [
        "pickle.dump(sc_X, open('/content/drive/MyDrive/Machine Learning Projects/Cardiovascular Disease Prediction/scaler.pkl','wb'))"
      ],
      "execution_count": 75,
      "outputs": []
    },
    {
      "cell_type": "code",
      "metadata": {
        "id": "XB01sj26oKtP"
      },
      "source": [
        "#pickle.dump(classifier_xgb, open('/content/drive/MyDrive/Machine Learning Projects/Cardiovascular Disease Prediction/model.pkl','wb'))"
      ],
      "execution_count": 76,
      "outputs": []
    },
    {
      "cell_type": "code",
      "metadata": {
        "id": "9KymmSV_95q7"
      },
      "source": [
        "import xgboost as xgb\n",
        "\n",
        "classifier_xgb.save_model('/content/drive/MyDrive/Machine Learning Projects/Cardiovascular Disease Prediction/xgb_model.bin')"
      ],
      "execution_count": 77,
      "outputs": []
    },
    {
      "cell_type": "markdown",
      "metadata": {
        "id": "j9HZo7N21d0P"
      },
      "source": [
        "The version of XGBoost on Google Colab is 0.90 and the version on my laptop is \n",
        "1.3.3 that is why I was unable to load the model using pickle.\n",
        "\n",
        "Also, XGBoost version 0.90 does not support json file so I had to save my model with .bin extension."
      ]
    }
  ]
}